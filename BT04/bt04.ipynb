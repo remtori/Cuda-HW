{
  "nbformat": 4,
  "nbformat_minor": 0,
  "metadata": {
    "colab": {
      "name": "bt04.ipynb",
      "provenance": [],
      "collapsed_sections": [],
      "toc_visible": true
    },
    "kernelspec": {
      "name": "python3",
      "display_name": "Python 3"
    },
    "accelerator": "GPU"
  },
  "cells": [
    {
      "cell_type": "markdown",
      "metadata": {
        "id": "eGBgThS8q8k3"
      },
      "source": [
        "Họ tên: Lê Quang Vũ\n",
        "\n",
        "MSSV: 1712209"
      ]
    },
    {
      "cell_type": "markdown",
      "metadata": {
        "id": "7qdrvDrCrnqz"
      },
      "source": [
        "# BT04: Song song hóa Radix Sort"
      ]
    },
    {
      "cell_type": "markdown",
      "metadata": {
        "id": "QkZaH7EE-ocN"
      },
      "source": [
        "Bạn có thể tùy ý thêm/xóa cell. Đừng xóa mấy cell có chữ của mình là được."
      ]
    },
    {
      "cell_type": "code",
      "metadata": {
        "id": "tbFLx1i4JxIE"
      },
      "source": [
        "!nvcc bt04.cu -o bt04"
      ],
      "execution_count": 44,
      "outputs": []
    },
    {
      "cell_type": "code",
      "metadata": {
        "id": "aZNqZuECjNso",
        "colab": {
          "base_uri": "https://localhost:8080/"
        },
        "outputId": "4bc9b129-d4fd-4960-8aa6-47d8244cf04d"
      },
      "source": [
        "!./bt04 256"
      ],
      "execution_count": 41,
      "outputs": [
        {
          "output_type": "stream",
          "text": [
            "**********GPU info**********\n",
            "Name: Tesla P4\n",
            "Compute capability: 6.1\n",
            "Num SMs: 20\n",
            "Max num threads per SM: 2048\n",
            "Max num warps per SM: 64\n",
            "GMEM: 7981694976 byte\n",
            "SMEM per SM: 98304 byte\n",
            "SMEM per block: 49152 byte\n",
            "****************************\n",
            "\n",
            "Input size: 16777217\n",
            "\n",
            "Radix Sort by host\n",
            "Time: 8751.518 ms\n",
            "\n",
            "Radix Sort by device\n",
            "Time: 2226.462 ms\n",
            "CORRECT :)\n"
          ],
          "name": "stdout"
        }
      ]
    },
    {
      "cell_type": "code",
      "metadata": {
        "id": "NVFUj14OYUyy",
        "colab": {
          "base_uri": "https://localhost:8080/"
        },
        "outputId": "be926c18-7524-44e4-a623-62a35f46491a"
      },
      "source": [
        "!./bt04 512"
      ],
      "execution_count": 42,
      "outputs": [
        {
          "output_type": "stream",
          "text": [
            "**********GPU info**********\n",
            "Name: Tesla P4\n",
            "Compute capability: 6.1\n",
            "Num SMs: 20\n",
            "Max num threads per SM: 2048\n",
            "Max num warps per SM: 64\n",
            "GMEM: 7981694976 byte\n",
            "SMEM per SM: 98304 byte\n",
            "SMEM per block: 49152 byte\n",
            "****************************\n",
            "\n",
            "Input size: 16777217\n",
            "\n",
            "Radix Sort by host\n",
            "Time: 8665.258 ms\n",
            "\n",
            "Radix Sort by device\n",
            "Time: 759.113 ms\n",
            "CORRECT :)\n"
          ],
          "name": "stdout"
        }
      ]
    },
    {
      "cell_type": "code",
      "metadata": {
        "id": "WQZncvXIDCSr",
        "colab": {
          "base_uri": "https://localhost:8080/"
        },
        "outputId": "06c9eaa7-b716-4491-9f8d-6df9234510ca"
      },
      "source": [
        "!./bt04 1024"
      ],
      "execution_count": 43,
      "outputs": [
        {
          "output_type": "stream",
          "text": [
            "**********GPU info**********\n",
            "Name: Tesla P4\n",
            "Compute capability: 6.1\n",
            "Num SMs: 20\n",
            "Max num threads per SM: 2048\n",
            "Max num warps per SM: 64\n",
            "GMEM: 7981694976 byte\n",
            "SMEM per SM: 98304 byte\n",
            "SMEM per block: 49152 byte\n",
            "****************************\n",
            "\n",
            "Input size: 16777217\n",
            "\n",
            "Radix Sort by host\n",
            "Time: 8759.352 ms\n",
            "\n",
            "Radix Sort by device\n",
            "Time: 426.493 ms\n",
            "CORRECT :)\n"
          ],
          "name": "stdout"
        }
      ]
    },
    {
      "cell_type": "markdown",
      "metadata": {
        "id": "XebMjR45-0Io"
      },
      "source": [
        "- Khi kích thước block tăng thì thời gian chạy sẽ giảm\r\n",
        "\r\n",
        "- Vì blockDim tăng, gridDim giảm và các block đỡ tốn thời gian đợi nhau"
      ]
    }
  ]
}