{
  "nbformat": 4,
  "nbformat_minor": 0,
  "metadata": {
    "colab": {
      "name": "bt01.ipynb",
      "provenance": [],
      "collapsed_sections": [],
      "toc_visible": true
    },
    "kernelspec": {
      "name": "python3",
      "display_name": "Python 3"
    },
    "accelerator": "GPU"
  },
  "cells": [
    {
      "cell_type": "markdown",
      "metadata": {
        "id": "eGBgThS8q8k3"
      },
      "source": [
        "Họ tên: Lê Quang Vũ\n",
        "\n",
        "MSSV: 1712209"
      ]
    },
    {
      "cell_type": "markdown",
      "metadata": {
        "id": "7qdrvDrCrnqz"
      },
      "source": [
        "# BT01: Giới thiệu CUDA"
      ]
    },
    {
      "cell_type": "markdown",
      "metadata": {
        "id": "QkZaH7EE-ocN"
      },
      "source": [
        "Bạn có thể tùy ý thêm/xóa cell. Đừng xóa mấy cell đề mục của mình là được."
      ]
    },
    {
      "cell_type": "markdown",
      "metadata": {
        "id": "DH9lSjFfr3Kw"
      },
      "source": [
        "## Câu 1"
      ]
    },
    {
      "cell_type": "code",
      "metadata": {
        "id": "aZNqZuECjNso"
      },
      "source": [
        "!nvcc bt01_p1.cu -o bt01_p1"
      ],
      "execution_count": null,
      "outputs": []
    },
    {
      "cell_type": "code",
      "metadata": {
        "id": "NVFUj14OYUyy",
        "outputId": "31340c85-d8b9-4a76-eb92-6a866f42da76",
        "colab": {
          "base_uri": "https://localhost:8080/"
        }
      },
      "source": [
        "!./bt01_p1 in.pnm out.pnm 16 16"
      ],
      "execution_count": null,
      "outputs": [
        {
          "output_type": "stream",
          "text": [
            "Image size (width x height): 512 x 512\n",
            "\n",
            "Processing time (use host): 2.301952 ms\n",
            "\n",
            "GPU name: Tesla T4\n",
            "GPU compute capability: 7.5\n",
            "Processing time (use device): 0.770400 ms\n",
            "\n",
            "Error between device result and host result: 0.002674\n"
          ],
          "name": "stdout"
        }
      ]
    },
    {
      "cell_type": "code",
      "metadata": {
        "id": "6KX0MPkuIyqP",
        "outputId": "869d083b-7fc3-44d6-8086-7fd9ef78d7cd",
        "colab": {
          "base_uri": "https://localhost:8080/"
        }
      },
      "source": [
        "!./bt01_p1 in.pnm out.pnm 32 32"
      ],
      "execution_count": null,
      "outputs": [
        {
          "output_type": "stream",
          "text": [
            "Image size (width x height): 512 x 512\n",
            "\n",
            "Processing time (use host): 2.352576 ms\n",
            "\n",
            "GPU name: Tesla T4\n",
            "GPU compute capability: 7.5\n",
            "Processing time (use device): 0.752992 ms\n",
            "\n",
            "Error between device result and host result: 0.002674\n"
          ],
          "name": "stdout"
        }
      ]
    },
    {
      "cell_type": "code",
      "metadata": {
        "id": "RtVsNqrEI3Od",
        "outputId": "2ecd0f5e-b5bc-465b-f017-22002e0de8f5",
        "colab": {
          "base_uri": "https://localhost:8080/"
        }
      },
      "source": [
        "!./bt01_p1 in.pnm out.pnm 64 64"
      ],
      "execution_count": null,
      "outputs": [
        {
          "output_type": "stream",
          "text": [
            "Image size (width x height): 512 x 512\n",
            "\n",
            "Processing time (use host): 2.264864 ms\n",
            "\n",
            "GPU name: Tesla T4\n",
            "GPU compute capability: 7.5\n",
            "Processing time (use device): 0.756064 ms\n",
            "\n",
            "Error between device result and host result: 119.969627\n"
          ],
          "name": "stdout"
        }
      ]
    },
    {
      "cell_type": "markdown",
      "metadata": {
        "id": "5WV8PDS2DxuG"
      },
      "source": [
        "Độ lỗi khi chạy với các block \n",
        "\n",
        "- block = 16:  0.002674\n",
        "\n",
        "- block = 32:  0.002674\n",
        "\n",
        "- block = 64:  119.969627"
      ]
    },
    {
      "cell_type": "markdown",
      "metadata": {
        "id": "XlycLWxberDO"
      },
      "source": [
        "## Câu 2"
      ]
    },
    {
      "cell_type": "code",
      "metadata": {
        "id": "gE-rY5TesEFe"
      },
      "source": [
        "!nvcc bt01_p2.cu -o bt01_p2"
      ],
      "execution_count": 36,
      "outputs": []
    },
    {
      "cell_type": "code",
      "metadata": {
        "id": "GG1mOFWW7zlB",
        "outputId": "890aa552-bcab-4c60-c1bf-68b7293ac578",
        "colab": {
          "base_uri": "https://localhost:8080/"
        }
      },
      "source": [
        "!./bt01_p2 in.pnm out2.pnm out2_target.pnm 16 16"
      ],
      "execution_count": 37,
      "outputs": [
        {
          "output_type": "stream",
          "text": [
            "Image size (width x height): 512 x 512\n",
            "\n",
            "Processing time (use host): 265.013245 ms\n",
            "Error: 0.002693\n",
            "\n",
            "GPU name: Tesla T4\n",
            "GPU compute capability: 7.5\n",
            "Processing time (use device): 1.255104 ms\n",
            "Error: 0.002744\n",
            "\n"
          ],
          "name": "stdout"
        }
      ]
    },
    {
      "cell_type": "code",
      "metadata": {
        "id": "vz0-5S0eRDdI",
        "outputId": "0bd15bf1-85d7-470f-ea09-2864651cadbc",
        "colab": {
          "base_uri": "https://localhost:8080/"
        }
      },
      "source": [
        "!./bt01_p2 in.pnm out2.pnm out2_target.pnm 32 32"
      ],
      "execution_count": 38,
      "outputs": [
        {
          "output_type": "stream",
          "text": [
            "Image size (width x height): 512 x 512\n",
            "\n",
            "Processing time (use host): 260.475159 ms\n",
            "Error: 0.002693\n",
            "\n",
            "GPU name: Tesla T4\n",
            "GPU compute capability: 7.5\n",
            "Processing time (use device): 1.152192 ms\n",
            "Error: 0.002744\n",
            "\n"
          ],
          "name": "stdout"
        }
      ]
    },
    {
      "cell_type": "code",
      "metadata": {
        "id": "Sy9C_lWqRD0V",
        "outputId": "5f05cc84-30d7-48b1-e82d-32c719017efa",
        "colab": {
          "base_uri": "https://localhost:8080/"
        }
      },
      "source": [
        "!./bt01_p2 in.pnm out2.pnm out2_target.pnm 64 64"
      ],
      "execution_count": 39,
      "outputs": [
        {
          "output_type": "stream",
          "text": [
            "Image size (width x height): 512 x 512\n",
            "\n",
            "Processing time (use host): 255.812134 ms\n",
            "Error: 0.002693\n",
            "\n",
            "GPU name: Tesla T4\n",
            "GPU compute capability: 7.5\n",
            "Processing time (use device): 0.885504 ms\n",
            "Error: 124.033791\n",
            "\n"
          ],
          "name": "stdout"
        }
      ]
    }
  ]
}