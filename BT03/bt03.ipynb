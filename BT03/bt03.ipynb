{
  "nbformat": 4,
  "nbformat_minor": 0,
  "metadata": {
    "colab": {
      "name": "bt03.ipynb",
      "provenance": [],
      "collapsed_sections": [],
      "toc_visible": true
    },
    "kernelspec": {
      "name": "python3",
      "display_name": "Python 3"
    },
    "accelerator": "GPU"
  },
  "cells": [
    {
      "cell_type": "markdown",
      "metadata": {
        "id": "eGBgThS8q8k3"
      },
      "source": [
        "Họ tên: Lê Quang Vũ\n",
        "\n",
        "MSSV: 1712209"
      ]
    },
    {
      "cell_type": "markdown",
      "metadata": {
        "id": "7qdrvDrCrnqz"
      },
      "source": [
        "# BT03: Các loại bộ nhớ trong CUDA"
      ]
    },
    {
      "cell_type": "markdown",
      "metadata": {
        "id": "QkZaH7EE-ocN"
      },
      "source": [
        "Bạn có thể tùy ý thêm/xóa cell. Đừng xóa mấy cell có chữ của mình là được."
      ]
    },
    {
      "cell_type": "code",
      "metadata": {
        "id": "tbFLx1i4JxIE"
      },
      "source": [
        "!nvcc bt03.cu -o bt03"
      ],
      "execution_count": 21,
      "outputs": []
    },
    {
      "cell_type": "code",
      "metadata": {
        "id": "aZNqZuECjNso",
        "colab": {
          "base_uri": "https://localhost:8080/"
        },
        "outputId": "924b2e4a-0179-4c02-d43b-6e54ae385d44"
      },
      "source": [
        "!./bt03 in.pnm out.pnm"
      ],
      "execution_count": 22,
      "outputs": [
        {
          "output_type": "stream",
          "text": [
            "**********GPU info**********\n",
            "Name: Tesla T4\n",
            "Compute capability: 7.5\n",
            "Num SMs: 40\n",
            "Max num threads per SM: 1024\n",
            "Max num warps per SM: 32\n",
            "GMEM: 15812263936 bytes\n",
            "CMEM: 65536 bytes\n",
            "L2 cache: 4194304 bytes\n",
            "SMEM / one SM: 65536 bytes\n",
            "****************************\n",
            "\n",
            "Image size (width x height): 512 x 512\n",
            "\n",
            "Kernel 1, block size 32x32, grid size 16x16\n",
            "Kernel time: 0.343776 ms\n",
            "Error: 0.000703\n",
            "\n",
            "Kernel 2, block size 32x32, grid size 16x16\n",
            "Kernel time: 0.337920 ms\n",
            "Error: 0.000703\n",
            "\n",
            "Kernel 3, block size 32x32, grid size 16x16\n",
            "Kernel time: 0.259520 ms\n",
            "Error: 0.000703\n"
          ],
          "name": "stdout"
        }
      ]
    },
    {
      "cell_type": "code",
      "metadata": {
        "id": "NVFUj14OYUyy",
        "colab": {
          "base_uri": "https://localhost:8080/"
        },
        "outputId": "0e95f9a1-f7c8-47c1-da6e-a021093ca27c"
      },
      "source": [
        "!./bt03 in.pnm out.pnm 128 8"
      ],
      "execution_count": 23,
      "outputs": [
        {
          "output_type": "stream",
          "text": [
            "**********GPU info**********\n",
            "Name: Tesla T4\n",
            "Compute capability: 7.5\n",
            "Num SMs: 40\n",
            "Max num threads per SM: 1024\n",
            "Max num warps per SM: 32\n",
            "GMEM: 15812263936 bytes\n",
            "CMEM: 65536 bytes\n",
            "L2 cache: 4194304 bytes\n",
            "SMEM / one SM: 65536 bytes\n",
            "****************************\n",
            "\n",
            "Image size (width x height): 512 x 512\n",
            "\n",
            "Kernel 1, block size 128x8, grid size 4x64\n",
            "Kernel time: 0.344928 ms\n",
            "Error: 0.000703\n",
            "\n",
            "Kernel 2, block size 128x8, grid size 4x64\n",
            "Kernel time: 0.339936 ms\n",
            "Error: 0.000703\n",
            "\n",
            "Kernel 3, block size 128x8, grid size 4x64\n",
            "Kernel time: 0.265088 ms\n",
            "Error: 0.000703\n"
          ],
          "name": "stdout"
        }
      ]
    },
    {
      "cell_type": "markdown",
      "metadata": {
        "id": "XebMjR45-0Io"
      },
      "source": [
        "## SMEM\r\n",
        "- Dùng SMEM nhanh hơn so với không dùng vì dữ liệu truy xuất ở SMEM nhanh hơn ở GMEM\r\n",
        "- Dữ liệu này sau khi được copy từ GMEM qua SMEM được các luồn đọc và sử dụng nhiều lần.\r\n",
        "- Tuy nhiên vẫn không được sử dụng nhiều bằng filter nên thời gian chạy dù có nhanh hơn nhưng không đáng kể\r\n",
        "\r\n",
        "## CMEM\r\n",
        "- Dùng CMEM nhanh hơn so với không dùng vì truy xuất CMEM nhanh hơn GMEM\r\n",
        "- Filter chiếm khá ít vùng nhớ, luôn được mọi luồn sử dụng"
      ]
    }
  ]
}