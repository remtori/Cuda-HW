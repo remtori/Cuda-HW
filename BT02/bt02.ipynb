{
  "nbformat": 4,
  "nbformat_minor": 0,
  "metadata": {
    "colab": {
      "name": "bt02.ipynb",
      "provenance": [],
      "collapsed_sections": [],
      "toc_visible": true
    },
    "kernelspec": {
      "name": "python3",
      "display_name": "Python 3"
    },
    "accelerator": "GPU"
  },
  "cells": [
    {
      "cell_type": "markdown",
      "metadata": {
        "id": "eGBgThS8q8k3"
      },
      "source": [
        "Họ tên: Lê Quang Vũ\n",
        "\n",
        "MSSV: 1712209"
      ]
    },
    {
      "cell_type": "markdown",
      "metadata": {
        "id": "7qdrvDrCrnqz"
      },
      "source": [
        "# BT02: Cách thực thi song song trong CUDA"
      ]
    },
    {
      "cell_type": "markdown",
      "metadata": {
        "id": "QkZaH7EE-ocN"
      },
      "source": [
        "Bạn có thể tùy ý thêm/xóa cell. Đừng xóa mấy cell đề mục của mình là được."
      ]
    },
    {
      "cell_type": "markdown",
      "metadata": {
        "id": "DH9lSjFfr3Kw"
      },
      "source": [
        "## Câu 1A"
      ]
    },
    {
      "cell_type": "code",
      "metadata": {
        "id": "aZNqZuECjNso"
      },
      "source": [
        "!nvcc bt02_p1.cu -o bt02_p1"
      ],
      "execution_count": 18,
      "outputs": []
    },
    {
      "cell_type": "code",
      "metadata": {
        "id": "NVFUj14OYUyy",
        "colab": {
          "base_uri": "https://localhost:8080/"
        },
        "outputId": "8f43d3b9-b703-4c58-ffba-74fe5761e9e8"
      },
      "source": [
        "!./bt02_p1"
      ],
      "execution_count": 23,
      "outputs": [
        {
          "output_type": "stream",
          "text": [
            "**********GPU info**********\n",
            "Name: Tesla T4\n",
            "Compute capability: 7.5\n",
            "Num SMs: 40\n",
            "Max num threads per SM: 1024\n",
            "Max num warps per SM: 32\n",
            "GMEM: 15812263936 bytes\n",
            "****************************\n",
            "\n",
            "Input size: 16777217\n",
            "\n",
            "Kernel 1\n",
            "Grid size: 16385, block size: 512\n",
            "Kernel time = 1.869184 ms, post-kernel time = 0.050976 ms\n",
            "CORRECT :)\n",
            "\n",
            "Kernel 2\n",
            "Grid size: 16385, block size: 512\n",
            "Kernel time = 1.886560 ms, post-kernel time = 0.056544 ms\n",
            "CORRECT :)\n",
            "\n",
            "Kernel 3\n",
            "Grid size: 16385, block size: 512\n",
            "Kernel time = 1.816608 ms, post-kernel time = 0.059104 ms\n",
            "CORRECT :)\n"
          ],
          "name": "stdout"
        }
      ]
    },
    {
      "cell_type": "markdown",
      "metadata": {
        "id": "XebMjR45-0Io"
      },
      "source": [
        "## Kết quả chạy với kích thước block mặc định (512):\n",
        "\n",
        "- Kernel 1: 1.868512 ms\n",
        "- Kernel 2: 1.885792 ms\n",
        "- Kernel 3: 1.817184 ms\n",
        "\n",
        "## Nhận xét\n",
        "\n",
        "- Kernel 1 nhanh hơn kernel 2 (trong tất cả các lần chạy) không biết tại sao. Nhưng khi chỉnh blockSize xuống 256 thì kernel 2 lại nhanh hơn.\n",
        "\n",
        "- Kernel 3 nhanh hơn kernel 1 và 2 vì vừa tối ưu được warp vừa tối ưu được cache\n"
      ]
    },
    {
      "cell_type": "markdown",
      "metadata": {
        "id": "M9wMWgeV--5b"
      },
      "source": [
        "## Câu 1B\n"
      ]
    },
    {
      "cell_type": "code",
      "metadata": {
        "id": "tMsckPIh_Ije",
        "colab": {
          "base_uri": "https://localhost:8080/"
        },
        "outputId": "e31ac8b2-01f9-4461-d458-eb9ea6dcd66f"
      },
      "source": [
        "!./bt02_p1 1024"
      ],
      "execution_count": 24,
      "outputs": [
        {
          "output_type": "stream",
          "text": [
            "**********GPU info**********\n",
            "Name: Tesla T4\n",
            "Compute capability: 7.5\n",
            "Num SMs: 40\n",
            "Max num threads per SM: 1024\n",
            "Max num warps per SM: 32\n",
            "GMEM: 15812263936 bytes\n",
            "****************************\n",
            "\n",
            "Input size: 16777217\n",
            "\n",
            "Kernel 1\n",
            "Grid size: 8193, block size: 1024\n",
            "Kernel time = 2.541472 ms, post-kernel time = 0.028480 ms\n",
            "CORRECT :)\n",
            "\n",
            "Kernel 2\n",
            "Grid size: 8193, block size: 1024\n",
            "Kernel time = 2.575936 ms, post-kernel time = 0.029600 ms\n",
            "CORRECT :)\n",
            "\n",
            "Kernel 3\n",
            "Grid size: 8193, block size: 1024\n",
            "Kernel time = 2.421568 ms, post-kernel time = 0.030016 ms\n",
            "CORRECT :)\n"
          ],
          "name": "stdout"
        }
      ]
    },
    {
      "cell_type": "code",
      "metadata": {
        "id": "ydvO00hC_JMW",
        "colab": {
          "base_uri": "https://localhost:8080/"
        },
        "outputId": "bce00afd-fcda-4975-dab7-da3e16ba907d"
      },
      "source": [
        "!./bt02_p1 512"
      ],
      "execution_count": 25,
      "outputs": [
        {
          "output_type": "stream",
          "text": [
            "**********GPU info**********\n",
            "Name: Tesla T4\n",
            "Compute capability: 7.5\n",
            "Num SMs: 40\n",
            "Max num threads per SM: 1024\n",
            "Max num warps per SM: 32\n",
            "GMEM: 15812263936 bytes\n",
            "****************************\n",
            "\n",
            "Input size: 16777217\n",
            "\n",
            "Kernel 1\n",
            "Grid size: 16385, block size: 512\n",
            "Kernel time = 1.871328 ms, post-kernel time = 0.048704 ms\n",
            "CORRECT :)\n",
            "\n",
            "Kernel 2\n",
            "Grid size: 16385, block size: 512\n",
            "Kernel time = 1.886176 ms, post-kernel time = 0.049312 ms\n",
            "CORRECT :)\n",
            "\n",
            "Kernel 3\n",
            "Grid size: 16385, block size: 512\n",
            "Kernel time = 1.816032 ms, post-kernel time = 0.048864 ms\n",
            "CORRECT :)\n"
          ],
          "name": "stdout"
        }
      ]
    },
    {
      "cell_type": "code",
      "metadata": {
        "id": "OoxamhSa_Jjc",
        "colab": {
          "base_uri": "https://localhost:8080/"
        },
        "outputId": "6f72e5a9-85e5-44e1-c0a3-1cba620adef5"
      },
      "source": [
        "!./bt02_p1 256"
      ],
      "execution_count": 26,
      "outputs": [
        {
          "output_type": "stream",
          "text": [
            "**********GPU info**********\n",
            "Name: Tesla T4\n",
            "Compute capability: 7.5\n",
            "Num SMs: 40\n",
            "Max num threads per SM: 1024\n",
            "Max num warps per SM: 32\n",
            "GMEM: 15812263936 bytes\n",
            "****************************\n",
            "\n",
            "Input size: 16777217\n",
            "\n",
            "Kernel 1\n",
            "Grid size: 32769, block size: 256\n",
            "Kernel time = 1.534848 ms, post-kernel time = 0.091872 ms\n",
            "CORRECT :)\n",
            "\n",
            "Kernel 2\n",
            "Grid size: 32769, block size: 256\n",
            "Kernel time = 1.526816 ms, post-kernel time = 0.107680 ms\n",
            "CORRECT :)\n",
            "\n",
            "Kernel 3\n",
            "Grid size: 32769, block size: 256\n",
            "Kernel time = 1.476768 ms, post-kernel time = 0.092416 ms\n",
            "CORRECT :)\n"
          ],
          "name": "stdout"
        }
      ]
    },
    {
      "cell_type": "code",
      "metadata": {
        "id": "MF_Kjjqe_J3F",
        "colab": {
          "base_uri": "https://localhost:8080/"
        },
        "outputId": "5592268a-8d30-4e1f-b40a-f411708f6240"
      },
      "source": [
        "!./bt02_p1 128"
      ],
      "execution_count": 27,
      "outputs": [
        {
          "output_type": "stream",
          "text": [
            "**********GPU info**********\n",
            "Name: Tesla T4\n",
            "Compute capability: 7.5\n",
            "Num SMs: 40\n",
            "Max num threads per SM: 1024\n",
            "Max num warps per SM: 32\n",
            "GMEM: 15812263936 bytes\n",
            "****************************\n",
            "\n",
            "Input size: 16777217\n",
            "\n",
            "Kernel 1\n",
            "Grid size: 65537, block size: 128\n",
            "Kernel time = 1.327552 ms, post-kernel time = 0.167936 ms\n",
            "CORRECT :)\n",
            "\n",
            "Kernel 2\n",
            "Grid size: 65537, block size: 128\n",
            "Kernel time = 1.305952 ms, post-kernel time = 0.179520 ms\n",
            "CORRECT :)\n",
            "\n",
            "Kernel 3\n",
            "Grid size: 65537, block size: 128\n",
            "Kernel time = 1.262304 ms, post-kernel time = 0.165120 ms\n",
            "CORRECT :)\n"
          ],
          "name": "stdout"
        }
      ]
    },
    {
      "cell_type": "markdown",
      "metadata": {
        "id": "L9PXsn1C_L4L"
      },
      "source": [
        "Block size | Grid size | Num blocks / SM | Occupancy (%) | Kernel time (ms) | Post-kernel time (ms) | Total time (ms)\n",
        "--- | --- | --- | --- | --- | --- | ---\n",
        "1024 | 8193 | 1 | 100 | 2.541472 | 0.028480 | 2.569952\n",
        "512 | 16385 | 2 | 100 | 1.871328 | 0.048704 | 1.920032\n",
        "256 | 32769 | 4 | 100 | 1.534848 | 0.091872 | 1.62672\n",
        "128 | 65537 | 8 | 100 | 1.327552 | 0.167936 | 1.495488"
      ]
    },
    {
      "cell_type": "markdown",
      "metadata": {
        "id": "8c811YinAqrd"
      },
      "source": [
        "- Khi giảm block size kernel time giảm vì ta sử dụng SMs hiệu quả hơn\n",
        "- Post kernel time tăng vì mảng out dài hơn, CPU cần làm việc nhiều hơn"
      ]
    },
    {
      "cell_type": "markdown",
      "metadata": {
        "id": "XlycLWxberDO"
      },
      "source": [
        "## Câu 2"
      ]
    },
    {
      "cell_type": "code",
      "metadata": {
        "id": "gE-rY5TesEFe"
      },
      "source": [
        "!nvcc bt02_p2.cu -o bt02_p2"
      ],
      "execution_count": 26,
      "outputs": []
    },
    {
      "cell_type": "code",
      "metadata": {
        "id": "GG1mOFWW7zlB",
        "colab": {
          "base_uri": "https://localhost:8080/"
        },
        "outputId": "072019a9-e014-473e-d6e3-efb24284050d"
      },
      "source": [
        "!nvprof -o p2_1s.nvvp -f ./bt02_p2"
      ],
      "execution_count": 29,
      "outputs": [
        {
          "output_type": "stream",
          "text": [
            "n =  16777217\n",
            "\n",
            "==546== NVPROF is profiling process 546, command: ./bt02_p2\n",
            "GPU name: Tesla T4\n",
            "GPU compute capability: 7.5\n",
            "Processing time of all device streams: 17.228640 ms\n",
            "\n",
            "CORRECT :)\n",
            "==546== Generated result file: /content/p2_1s.nvvp\n"
          ],
          "name": "stdout"
        }
      ]
    },
    {
      "cell_type": "code",
      "metadata": {
        "id": "vbDf8XqIGFW6",
        "colab": {
          "base_uri": "https://localhost:8080/"
        },
        "outputId": "d7e02284-3b4e-4d8f-ce88-3913f5efca94"
      },
      "source": [
        "!nvprof -o p2_3s.nvvp -f ./bt02_p2 512 3"
      ],
      "execution_count": 30,
      "outputs": [
        {
          "output_type": "stream",
          "text": [
            "n =  16777217\n",
            "\n",
            "==559== NVPROF is profiling process 559, command: ./bt02_p2 512 3\n",
            "GPU name: Tesla T4\n",
            "GPU compute capability: 7.5\n",
            "Processing time of all device streams: 13.939296 ms\n",
            "\n",
            "CORRECT :)\n",
            "==559== Generated result file: /content/p2_3s.nvvp\n"
          ],
          "name": "stdout"
        }
      ]
    },
    {
      "cell_type": "markdown",
      "metadata": {
        "id": "OwzjJVcZE2Yc"
      },
      "source": [
        "## 1 Stream\n",
        "\n",
        "![1s.png](data:image/png;base64,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)\n",
        "\n",
        "## 3 stream\n",
        "\n",
        "![image.png](data:image/png;base64,iVBORw0KGgoAAAANSUhEUgAABOYAAADxCAYAAABvYLgaAAAgAElEQVR4Aeyd+5McxZXv58/YP8HhfWACIRjWxva1vb4bN/bG3g077vKQsM2sd294d+211xvGLLYQkhghj3lIIbEyQu+RNEI8BsRKBiTNMKMZ3hjQCD0AzYwgZCQNkvhNv5wbp6qyKiu7qrpnurq7quszEUlXVWaePOfkJ3NaX7Kne7Zs2SLm5+rVq0JZWA6mBnqlp3dApshhVzF06dIl0aLrhLWxsLVB3sgbDMAADMAADMAADMAADMAADMAADCQz0IMwl5yYRoDxxLieHunxSq8MTC3cViPj0ab9+UWYa3/O4ZycwwAMwAAMwAAMwAAMwAAMwAAMVIUBhDlOuHESLIMBhDl+GVTllwFxwjoMwAAMwAAMwAAMwAAMwAAMtJ8BhLkMUQYg2w9k0XKOMAcDRWMSf2ASBmAABmAABmAABmAABmAABrqHAYQ5hDlOzGUwgDDXPZsdv7iYSxiAARiAARiAARiAARiAARiAgaIxgDCXIcoUbbLwp/0bCMJc+3MO5+QcBmAABmAABmAABmAABmAABmCgKgwgzCHMcWIugwGEOX4ZVOWXAXHCOgzAAAzAAAzAAAzAAAzAAAy0n4GYMHfu3DmhkAMYiBiwhTnyEuWFXJALGIABGIABGIABGIABGIABGIABGGieAYQ5xEjE2AwGEOaa32TYqMkhDMAADMAADMAADMAADMAADMAADCQzgDCXIcoATTI0VcoLwhwMVIl3YoV3GIABGIABGIABGIABGIABGGgvAwhzCHOcmMtgAGGuvRsSvwDINwzAAAzAAAzAAAzAAAzAAAzAQJUYQJjLEGWqBAKxJm98CHPJeYEX8gIDMAADMAADMAADMAADMAADMAADzTNQV5hbs36vzKcwKc1PCjksTg4R5oozF6wL5gIGYAAGYAAGYAAGYAAGYAAGYKDbGGhImDv2uUgjRQW8bksQ8VR70SPMVXv+Wf/MPwzAAAzAAAzAAAzAAAzAAAzAQCsZaFiYu3BVpF5JF+YGZUlPj/T0LJFB/ejo4BLp8e57pGfJoJybXC6L9H7RcpmMfbTU9NO+piyS5ZPzgUJtNNqnsfEGlwR+x3ydj0+0bSXUedpGmIPVPHnCFjzBAAzAAAzAAAzAAAzAAAzAAAzYDLRPmAtFN1som5Tli3pkyaBOyqAsCdu4k2T3cevq3S+kb0YfIyKqoIgw1/U5QJirt76oZx+AARiAARiAARiAARiAARiAARiAgYUy0H5hTk/LWaLW5PJFsmj55AKEORXPglN0jj3/dF1wOk8Fv/DEnC8EmtN3/rhJ8Nh97Hrtv0QGnRgWmnz62bkt5jXCXDHnhbXDvMAADMAADMAADMAADMAADMAADHQDAw0Lc4u/+4hkFf2Ya+ZHWYPTcJEQFwAUilzzOzGnHyf1T9qpWGY+qqqCmhHkDKBpIltS2+w+4Zihz6Y9r92wGJJiQJiD7SQueAYXMAADMAADMAADMAADMAADMAADeTCQmzCnXw7RPmFORTXzN+f810ikc//+myPMqagW9jWCnguT0+fcOYkJighzXf8RVrO4EObctcG9YYNXWIABGIABGIABGIABGIABGIABGGiWgYaFOT0RV++bWRsR5rwvfnA+ejr/j7LWCmd2IlREC79owv4oqwpq4d+xy7Lh1ul9XAj0xD0rDnt8rrtnYSLMdc9csi6ZSxiAARiAARiAARiAARiAARiAgaIxMC9hrqlvZTWCmPflCebjps7HUE2bmi9VcIUy/2/Fpf+NOMeu+Rtz9kk37+Rc4yfmYhNn26nxFchjuSp5fhDm4LmbeCYWeIYBGIABGIABGIABGIABGICBYjHQfmFOhRpPFPNPoEXi2vz+xtw58+2o3kk2I/RZJ9vC02y2qGfXL7G+FMKdFLuPWxf4H9pPqC+5GMUijeYUYS7KBVyQCxiAARiAARiAARiAARiAARiAARjIl4HOCHOJwlWWMJdv0EBEPhtlAGEOVhplhXawAgMwAAMwAAMwAAMwAAMwAAMwMF8GGhLm9G/HNVqSHTAn1czJNmeizOm31I+yOu0ThT3aJOeevDSTF4Q5+GmGH/rCDwzAAAzAAAzAAAzAAAzAAAzAQBYDdYW5rM7UAVe3M4AwB+PdzjjxwTgMwAAMwAAMwAAMwAAMwAAMdI4BhDlO3wkLMH0BIsyl5wZuyA0MwAAMwAAMwAAMwAAMwAAMwAAMNMcAwhzCHMJcBgMIc81tMGzQ5A8GYAAGYAAGYAAGYAAGYAAGYAAG0hlAmMsQZQAnHZyq5AZhDgaqwjpxwjoMwAAMwAAMwAAMwAAMwAAMtJ8BhDmEOU7MZTCAMNf+TYlfBOQcBmAABmAABmAABmAABmAABmCgKgzEhLmrV68KhRzAQMSALcyRlygv5IJcwAAMwAAMwAAMwAAMwAAMwAAMwEDzDCDMIUYixmYwgDDX/CbDRk0OYQAGYAAGYAAGYAAGYAAGYAAGYCCZAYS5DFEGaJKhqVJeEOZgoEq8Eyu8wwAMwAAMwAAMwAAMwAAMwEB7GUCYQ5jjxFwGAwhz7d2Q+AVAvmEABmAABmAABmAABmAABmAABqrEAMJchihTJRCINXnjQ5hLzgu8kBcYgAEYgAEYgAEYgAEYgAEYgAEYaJ6Blgtza9bvlfkUJrX5SSWH+eUQYS6/XMIluYQBGIABGIABGIABGIABGIABGICBOANtEeaOfS7SSFEBjwmKTxD56Gw+EOY6m3/4J/8wAAMwAAMwAAMwAAMwAAMwAAPdzEDbhLkLV0XqlbrC3HCf9PT0hKV3YKoJIW9Y+np6ZWBqIYA30HdqQHp7+mQ47aOyWt87IFOmPjG2pHHsZ3od5cPLTd9wbU48X+xYp2Sg175fSA6q0Qdhrhrz3M2bPLHBMAzAAAzAAAzAAAzAAAzAAAwUl4HyCHOecJUhdBmBq+FXW+Ca7wRl9VXRq0d6enszhbnhvh7pGw7GTY0taRz7mX2ttoKxHXFuaqBX+vr6JCZk6phOOxZqLQcIc7U5gRNyAgMwAAMwAAMwAAMwAAMwAAMwAAP5MFASYa7eCS8VqMzJMfskWCBcDUQn7Xxxym7fYwlW1vNAtFIBzQhaKnD19PVZY0V1tUCqrTQh0Y7HvnYnNfA/dqrPfmZfm77uM7WvfgxLn31Cr+be9OfVnkuEOXiweeAaHmAABmAABmAABmAABmAABmAABvJkoG3C3OLvPiJZRT/mmvpRVvdjn86pOFs8u6onwUIBSkWqnuhkWOxkmitgXZXoFJstlmm7QNgKhbbavrWTYvolAWvVZcaWNI79zL4246jv1mk8tW+JjOEpPRXmFvxRXjNW978izHX/HNeuXWImJzAAAzAAAzAAAzAAAzAAAzAAA+1hoDDCnH45xMKEOVdgsu/ta02ofW9fmzpz6s5/NSKWd1Kuxz4d5/ZNmixtk3Jizhbj7GtHcIz7a8awx7avTX1cmIvExqviiZbhx1dt8dH05dXdeBDmYMJlgnuYgAEYgAEYgAEYgAEYgAEYgAEYyIuBtglzeiKu3jezpgpzMUHNnXxXnLLv7WvtZ9/b126dM4Z30s46hRaz47QNxTW134Awl2nL9dH1M6Fehb5wXK2Pi409YR3CXCOLCGEujW+eN8IPbeAEBmAABmAABmAABmAABmAABmAgi4G2CnPNfCurd2ot/IiqTuqwDATfypr9UdaEvznn/c02V9TyT5qZvycXJU3btfCjrFevSr3Y7C9piLd1Y/CFuDCGhC94iE7QuX1ZKNGcR7lAmItykZQfnpEfGIABGIABGIABGIABGIABGIABGFg4A6UR5nSSzUdKe7xTYPZpNF+Q8p+nCXGapLgYpSKV9gmFLO+0mTlh5tu3RT9vfOvvtcX6hiflzGToWLaP5rm+1p5WS4/NFwz92NQ326Ydt++3+fit5isS4ayxQ7Euyz+rfU1c1apDmKvWfPPLhPmGARiAARiAARiAARiAARiAARhoJwOlEubamZhWj5UomrVTBAsFOhZc1lwjzMFHFh/UwQcMwAAMwAAMwAAMwAAMwAAMwEAzDLRFmNO/HddoaSaYUvXV03nhFzG0G+LaE3ulyl0bBUyEuXazyXisRRiAARiAARiAARiAARiAARiAgeow0HJhDpiqA1M3zjXCHPx2I9fEBNcwAAMwAAMwAAMwAAMwAAMwUAwGEObaePoK6IsB/XzmAWGufHM2n/mlLfMLAzAAAzAAAzAAAzAAAzAAAzDQSQYQ5hDmpJMAFn1shDk26KIzin8wCgMwAAMwAAMwAAMwAAMwAAPlZQBhDmEOYS6DAYS58m5u/GJi7mAABmAABmAABmAABmAABmAABorOAMJchihT9MnDv9ZvMAhzrc8xHJNjGIABGIABGIABGIABGIABGICBqjIQE+a+uvJPhEIOYCBiwBbmyEuUF3JBLmAABmAABmAABmAABmAABmAABmCgeQYQ5hAjEWMzGECYa36TYaMmhzAAAzAAAzAAAzAAAzAAAzAAAzCQzADCXIYoAzTJ0FQpL7Ywd+7cOaF0PgdjO74tlGrnYHTbXwmFHMAADCQxoL+nk57zDF5gAAZgoBoM8O+1zv97jTmY/xwgzCHMcWIugwGEuflvKq3eiEe2fkso1c7B4c3fFAo5gAEYSGJAfwclPecZvMAADMBANRho9b9FsF+8fx92w5wgzGWIMlU6GUasyacDEeaKt/G+9Pg3hFLtHLzw2DeEQg5gAAaSGNA350nPeQYvMAADMFANBrpBpCGG4v0btNVzgjCHMMeJuQwGEOaKtyke/N3XhVLtHBz4r68LhRzAAAwkMaBvnJOe8wxeYAAGYKAaDLRaQMF+8f592A1zUkphbs36vXLsc6krKP187YgspHB6LPn0WBXzgjBXvI33+Q1fE0q1c/Dc+q8KhRzAAAwkMaBvzpOe8wxeYAAGYKAaDHSDSEMMxfs3aKvnpOuFuZXbj8o7p/7olZG3Z+T5Vz6UoZFTsvnAe6J1Wox4Z65rBaifyJiIyPs/qRED+8Y+EJEPZPB3OYlZT/9eRwp/pse+XTNmrX91xv7depm+sF76Vmocrq/2M/u6jk3PVuimfxHm59syeMEdp569YtYjzBVvUxxed7PUlhXyiVJ4ekVC3c1y5LVpEZmWk7uS+hbpmcaR5Gfa83q+B3mxluqV1+5MzNHwOtM2afx64+RYf9DbbUVkTN5InOub5elHvpJcDk6KyFk5MZhQPzgkn4vIJwcT6tLsdeq5xvHBA06MD8gnMimvL8QnLy8WBCLy+es/dOwHeTFt54bk0ELGyqNPMFepc9noGPCQPccWEt3Eg75xTtwj4CEjLxYM3b4/wEG1OWD+KzH/rRZQsF+8fx92w5x0tTCnAtbPHj7siW+2OLfXEuZsUe6nDx9OEcECYU5+LytjH3tUAUrfzOQkQnminDtG84LVyvdFxp5WO0nCm/3Mvq43rts2yIUR5zQWcx3LWT27xapHmCvexvvkw1+W2nKffCzTcuXitBzf6dZrnf4k1bltO33vx5Ecg/E/rU2S727bIBen7kvJ4cvySmJ+k2y38pn6me7LEw/9pSSWAyrMqUC7uqb+ldNn5cqcyMcHUvqm2ezEc42jJobV8rFMyivGnx1DcmVuSF4w91mvNfbUVnKenqhp26l8/YMcnzsrx3c0MT481KwDb93UzHF38aBvztkf2B8SGdB9kn0hfX3Efu90174Q8sD8V2L+u0GkIYbi/Ru01XNSamGukY+zqjj3k9++GBPn/vuVM+GJORXm9KTcj3/7YoooFwlaY+9/ILETbE//XqbH1jun0FSwCn5CYcoXsbS//qgNFcu8n7BN1imzQAQbi07T+UKbL4b5138iX1UxzDsZZ4tbtl1XTItiG/yd5Xfgo38yz35uC5BZtgK7Nb7YfpXjGmGueJvi0G9vktqyXGZlWmZPTcuVyTvi9ftHRU6NevXHtiX1LdIzP45aP+3n9nU93xPabtsuV2RUJmvyqG2TntcboxX12b7s/s1Nklj2q6A1KbMyKROxNv0yOzckU6dFZven9I2173AbL45+J8b+eFxbh+Ty3JAcaMTvVHtnZWqrE2tiW6dNI2M23aZPpuYS/JuPXXhwGArmMXGOla+EfCe2LTYP+saZ/YH9IZEB3T/YFzLWR9Lvne7YF0IemP9KzH+rBRTsF+/fh90wJ6UX5lSc03LhavbfnPvnBw6G4tzEux97wpwR5X70wMEMUc4RryyxaeX7KlTFBarodJoriPmC3Ff1Y6X6IS09weZdByfkwo+bJglWgThmRDzrZJ33UdrguV7HhEPvpJr2NafwAjuBJhi9GMEtHosKcxpPaDMm/NW2/epKWyhMqk+KrdjPEOaKt/HuWnOj1JZlMiPT8t5mfR2V8bDNUnnvonmur0HfzdvkcrgATPvAxrNR3cyzN8rzE7pi/Z/LE0utsdW2qRHRtrvW1Nrw+/ht/TaBD8+OilzcJs+Hvlr9jZ9hnR1fNKacXOb7E4vH+JJmL8EXbxw3dzfK+MmEsda4cSfYC2ML/J4YDQ3Vz6Hx28xLkK8wFzfKztUp5bkJkVP9sn/yrMw8F7XR+8uT/d582c/HT4VuyeXJOz27dlut9Z6r3eDH7q9+NGJDP5Kp7O1UOxf3yP7Q/36ZMXXhs6DdqX4nTm07IePabvMei18JY7V9iY0T5MXNm7Z34/F8tMe2Yg/jUB/s5xpTRmxuTmO+peRw5+o75b2LQd7s3MznOogbHiTOXZCXbuVB35y7sXn38GC2sUrxUMMCHFSbA+a/EvPfDSINMRTv36CtnpPSCnP6BRBu8U94pQs9/7hqfyjOmb8x948rn68jyqm9SGQKhTcV0jxBLKrz20X7nV7VfoTUbR+IYnWFOSOexf3xxD1PLLSFQCsHMbv22KaN/cy+dsYJRT7jh9tW29vCXIo/JftYK8Jc8TbF7f03SG1ZJtMyLe9sWiyjJ0Smn1nst9m0TS5d2CbP9kf122PXN8j2Z0bk0tEl4j8XEa/9Yu+5rmG/zm8nMiKj/Wp7ibxzwaoLfdJxLBs6fuCXjiMnloW+x/x0+8e3keDOj6/Gfy8eJ2YzphurN47ve5ij2NgmPjfHVv6cOLy5cJ5FsQX5MHFru7o51LG1X5ovN8jWVYuTy/CEyMlVsnXTbrl8cbcMe+1+IO9enJDRVfoqMjPs9x09GV1v9epm5d1Ni2V4YlZE/Outq1bJjGZfbaottR/aDdqaOsunuI2gnddPfTC2A3sJ/b1xEhnQOILYYzEuFo0n9HOV45vJi+kbvMZzENhNaRvG7/nrxOHZc55ZduL5iM+DV5eUA2tOUufbiaemnfEhlisdHx5sVkzeuoUHfeNsYoq9wkOYl9i6M3lx1lO38BBjQGM08bIv+L/vzP5r8tLtHJg4mf+unv9WCyjYL96/D7thTkopzNUT4LLq77z3Ge+LIPTjq3cuH25AlHMEqkCQ09Np2aKbEb6c/pbIZwt+8Wu7r9vfvQ8EsKfNFzw4fdspzOlY4ek8hLlu2CCKGMPmFddLbVkmZ2Ra3t54vWzeuFUuXdgqT6+4XkbeFznzlLZ36l3R4/1l8TbeGFYf917HkBEZqfHF7eP6YPoskzOBj/FYavv79fZz+zqI1/ElMe7Q19vl7QtBrsJnJkfGvyDHT6mQZn6s/KpgOXa7NQ/qk+lrx+b4WjMPpo87p7Y9t+56efy+Rcnl6aMiJ1Z5dUdOzMofNi6Sx8Nn35c/XBA587T29a9NZOZV654an5VL498P7Gu7wI6OuXG3XLqwW57yxnfqLJ/iNnS8VXJGjsqR++L2j5ww/jjxhD7bzyMbXvx1fbHaJ9pbJInj17R1chXEr30liMnMhx23bdt+rm2j+/Qc+nNk5d7Krxmv7qsVCzxUhwf9vZXIBjxYeakODzUswEG1OWD+KzH/Rfz3Cz4h5tVjoHLC3B2/ejIU5u6458n5C3PeqbAPZPp9/ZbTJJHM+uhneDrMPl2Wdv0n4n0s1fqorIp1g963smqfyK7bzhMJ39e/d5f0Da7a1/4oqznxZgS8dH/m91HWuI/ZQqMZu/ivnJgr3ib62L3XSW35tXwk0/LWo1p3q7x1flre2rdFPju/RfZ57a36R7fIZzIih2rsWG3cPu59wzbUF5GP9vk+7xudls9GbxXzmh2HHaftm319nTyW4Muh42ZMp63GkdDe90PbWnmJtQty6uU3ikWlmezY3PGt+5h9O1a9dnxx5mrjr6+TxPLkUZH3V/p1wfWh92flrQ3a/nvy1gWRj5401+Z53Na+sVm5NPa9wL72sdpt2CWXLuySfd74K+Ujseosn+I21L62PSqHTD/Pxkr5KLQV92GjHUdo17ZxnWyM+eL4acYxYybZ0/6mPhzjOomPbefMHdPEpSdErZwkxObmI7pPz6E/X8n5TZx7OwZzbccNDxGDdl5MrrqIB33jm8iIHTc8VIaHGhbgwFof1u8VOy9duC+EHNhxsg907T5QTwChvnj/vmNOzknlhLnbf7k3FOZu++UTCxDm/C9ZiEQwW9gyfzfOnL9IEsTs9va1L1J5opvp7ghq5ssjar4F1vubc67gZkQv++Ra7XiugGa+lCIen3HIHkNtxX/CL6EIBUsTv/GlfK8Ic8XbuB/91bVSW+6RD+WMvLEuqNvrn/SaG7klaGvX67VIVGfs2W30Wdb9LfLG+TQb1vN1m2VORuQF47Penx+RD89bvpo679UdM8k3t43ei3y4N2gbG7NO25qxLV81h+c3y5C28WzW+jw0cibKY2JsSeMbO2k5NLm3fIn5ea1suCel7BsXOb4yqNd/cIjI+UEZ8tovlTc9kdTv++JxsdpG9oZenpXPXl4a2NA+s/Lm+qB+/aB8Ftq7VrJsiIzLi4GfajPyS/vNypsvj1vjRON7scXiMHUaT2RzQx1fYmO69rSvJ6oa29ZrrK0vnJn4PZtW/P48xHOUFFs8p9eKfZ+Www33xO2mznkaC/q8JhZ4SOSry3jQN/eJvMBDmJdK7w9wUG0OmP9KzD8iT/H+/cac1J+Tyglzt/xiKBTm9DrrY6/FqUsS1CKRyz1B5/od/l288ARf1Ndtm9u9ioXmyyraOW7OYyHM1d9E2r3Rrrv7S1Jb7pHTckZee8TU/b289ukRORi2deofUcHM+jl2j6y722nT0H1k4/QeHdu3cfrYmbDCf278+pIcPCYi3njRsyge1wfTJv7cs6EjGDuxeOw8aD/7x64zts2rtrVzpjkM+n56RE5/GvTdc8QyaLdPii3ut8lPNE9x/6Jcub4YH/3XtXddI4llaFxkakVYt2tkVj4YMm2XyuvnpeY+CmZcfn/XNaJ95kaWBja0z6y8vjawsXZQ5s4Pyq5wfN+msWH6+TYGxf8ebl8MivpcI2vVT/HHayQOv80K+SDWJxrbjzG69/yx/fTGM17qqxVTGEsQY0IOTc+5qfEg/vhYJm7Pz4TY4jlNyrEZQUXtlNy7fjZynxALPBj+opx3Gw/6O6mRdcX+YK15G4du3x/YF6LZruLvCea/EvPf7n+bMF7x/r1YxjmppDCngpwpuQlROQtCcb/ShDk9Daf7q32SLUF0C/4uXtxmQrvcYrBP6bVynNbbRpgr3kb78C/+Qopb/lNOyRl59aF0Hw+8J3Jqd3p952JT34/IgSbym19s2b48+B9/LkUuO47MyNyR29N93DMmMnVfen0n42vWt2b7h7HfLq+en5FXHyr2XDfCITzkwXrjPOib8UbmpVNt4KG9PHRqnuuNCwfV5oD5b+38l1GUwefi/Zuz3XNSOWGufeJU60UjYml9jhHmirdJDvz7n0lxy92eMDc5kOLjwCa5+MdNsrWQMajv+nNGUv3P8juv2HYeDv5v7mF5LmW8NT/7Uyly2XJ4RuYO35bi420yeV7k1K6CxrAr+CMF53fIlnnnOafYHtwRnGidkckHC5qneeQGHpqcw3nyoG+k2R+azHka3+wPubHFvtAko/PcF4q2JzD/rZ3/dgsqjFe8fy+WcU4Q5nI7JdZ6kQghrv05Rpgr3ka7+t++KMUtd8kJ/VO6a1wfvyNHz6nelFTnti3bfftju/8nX5Qil8dfmpGLL91a6+NOX/RKrCt4THXz3c2xNTk38NDe9apvxuvy2uScNmMfHtrLQzNz1cq+cFBtDpj/1s5/GUUZfC7evznbPScIcwhzJfk7e+0X5VQIRZgr3ia56l+/IJRq52DFv3xBKOQABmAgiQF9I530nGfwAgMwAAPVYKDdggrjFe/fi2WcE4Q5hDmEuQwGbGGOE4udEUfJO3mHARiAARiAARiAARiAARiAARjoVgYQ5jJEmW6ddOJqfENDmGs8V3BFrmAABmAABmAABmAABmAABmAABmBgfgzEhLmrV68KhRzAQMSALcyRlygv5IJcwAAMwAAMwAAMwAAMwAAMwAAMwEDzDCDMIUYixmYwgDDX/CbDRk0OYQAGYAAGYAAGYAAGYAAGYAAGYCCZAYS5DFEGaJKhqVJeEOZgoEq8Eyu8V5WBsR3fFgo5yGKgqmuDuKPfC6Pb/koo5MBlgDUSrZFuzYU759yXax8oC5cIcwhznJjLYABhrvt/2ZZls8ZPWISB1jEwsvVbQiEHWQyw/lq3/sqS28ObvykUcuAyUBZ+8XPhe5g759yXax8oC/sIcxmiTFkmET8XvtHWyx3CXOtyWy/31JN7GICBdjHw0uPfEAo5yGKgXSwyTnH3vRce+4ZQyIHLAGu2uGs2r7lx55z7cu0DeXHQajsIcwhznJjLYABhrvt/2bZ6k8U+DMFA8Rk4+LuvC4UcZDHAOi7+Om71HB34r68LhRy4DLSaO+x3fu9x55z7cu0DZVlDpRTm1qzfK8c+l7qC0s/XjshCSlkmDz9bv1EjzLU+x3BMjmEABjrNwPMbviYUcpDFQKcZZfzO75PPrf+qUMiBywBrs/Nrs9Vz4M459+XaB1rNR2FFhhYAACAASURBVF72u16YW7n9qLxz6o9eGXl7Rp5/5UMZGjklmw+8J1qnxYh35ro2ucPS19MjPX3DNWLg1ECv9PT0ysBUTpvScJ/06FhB6R2Yqhmz1r86Y08NSG/vgExdDeKw7Mdj0vpGY0lqa55NyUBvo3bq+J5xmm3eeViALYS5Ys9POxhgDBiAge5nYHjdzVK/rJBPREROr0hse+S1aRGZlpO7GrHVyTZBHBpL8HPltTsTY2osJ0kx6xhpz3XQpLo25uTgWBD5mLzR0Nzf3Px7sQW8B2HvKdbe8/QjX5HMcnBSRM7KicGEdoND8rmIfHIwoa6e3XbXe3GY3cF//fz1H2bHnuaj2vrgAafvA/KJTMrrSX3M2HNDciipvh3PgrlKnUvHB9ZpsdZpK+ajZt2z1p01/RV5usBrvRVMtMJmVwtzmrCfPXzYE99scW6vJczZotxPHz6c8sbLCFp9Mhx7Y6UClIpoOYlQnijnjtH8Zjfc1yN9w2rHCGfGZuB/KDi69aZd0mtSW+uZxhLaTepfjmcIc+WYp1Zsjthk7mGgOgw8+fCXpX65Tz6WablycVqO73Tba53+JNW5bTt978cRxRD4fuq+IAdufZa/aW2znr8srzSU76xx86hTHxv3hf2gOvtB2lw/8dBfSmY5oMKcivera9q9cvqsXJkT+fhAHRv1xmhHvcYRi2G1v7+ZZzuG5MrckLzQiC81tjR+tTcpryT1T2zfiZz9gxyfOyvHd9QfO40XnnfPnlGz7lnrNXvcE4lrtxhrvSxrsdTCXCMfZ9WJ+MlvX4yJc//9ypnwxJwKc3pS7se/fTFFlNNNxRec+vp6JXaCbbhPegcGnFNm2jY48RYKU1F/PQmnNlQs807FhW2yTpkFgtdAdJrOF9p8Yc2/vipXVQzzTsbZG6FtN7ATO91nnulr0kk9+7ktQJp+9lj2s2Hpq/HFbluOa4S5csxTWTZc/IQnGCgmA0O/vUnql+UyK9Mye2parkzeEW+/f1Tk1KhXf2xbI7Y62caPI+bntu1yRUZl0stDQn1qftLaZj0343QyBzq2+ti4L6zdYq7dds7L7t/cJJllvwpakzIrkzIRa9svs3NDMnVaZHZ/HRuxfh1q68XR78TaL7NyVqa23iS7tw7J5bkhOdCIr6m23BwFsSa270Qe+mRqLoi3TpztZJCxOrMP1ax71rqzP9wkuxPXru4bnV/rZVk3pRfmVJzTcuFq9t+c++cHDobi3MS7H3vCnBHlfvTAwQxRTjcAIzjFxabhPhWqTJ2/UUSn01xBzBfkrurHSnuCE2zedXBCLvy4adKGo2NYH6W1TtZ5H6UNxD29jgmH3uk+7WtO4cV99SG1xb3aeo0ntBkT/gKfLDHP//itEe9qbZVlUdh+Iswl8cgzmxGu4QEGys/ArjU3Sv2yTGZkWt7brK+jMh72WSrvXTTP9TWwtXmbXPbPz4iE7QMbz0Z1M8/eKM9P6Mdg/Z/LE0stX9S2qRHRtrvW1Nrw+/ht/TaBD8+OilzcJs+Hvlr9jZ9enemrtq2fk8t8X2KxGD/SbNV7bufuRhk/mTDeGjdu418Ql/ocxhbkY2I0NFQ/h8bHuC9ZDLDOy7/Om53DnatvlMzy3ITIqX7ZP3lWZp6L2ur95cl+by3bz8dPhcjK5ck7Pdt2W631nqvd4Mfur740YkM/kqn70k61c3GP7A/j6JcZUxc+C9qd6q+JVceamdxj7WsSxmn7ERsjyEk8bzruhIzbY5prt70VexiHtrWfa0x6nxKbm9N4u+Qc7lx9p7x3Mcib8S3ltVmu6F/8vSXOb7RGWOvWfuKuXW+9tGCtp6zDmjmy2pVljZVWmNMvgHBLvaT/46r9oThn/sbcP658vo4op5tFJDKFwpsKaZ4gFtX57aJTZypU1X6E1G0fCFl1hTkjeMX98YQ+72SaLQRaG1zMrj22aZMlzLnt7Xv72tiyn6X4E/sosOlX3FeEueLOTb31Tj1zBwMw0CgD2/tvkPplmUzLtLyzabGMnhCZfmax32fTNrl0YZs82x/Vb49d3yDbnxmRS0eXiP9cRLz2i73n+u9tv85vJzIio/1qe4m8c8GqC33UcSwbOn7gl44jJ5aFscT8jPX344hi9sfyY7Lj0Lz448XiNeMFdUY0iL+6YxhbJj4359a4Thyen86zKLYgHyZubVc3h/V8cX27oYH3iqy3RtdbWdttXbVYMsvwhMjJVbJ10265fHG3DHvtfyDvXpyQ0VX6KjIz7NsYPRldb/XqZuXdTYtleGJWRPzrratW+UK52lRbaj+0G7Q1dZZvcRtBO6+f+mBsB/YS+nvjJDwPfY7Ft1j0uRd34IM3vumvPif+aE4S8mlymFnnxOG1dZ5ZduL5iM9DzNfYmI69WF3c77LyjN+N79k1697wFVsLygxrvXa5573W4+uvZm4S1mpZWC+lMNdMcu+89xnviyD046t3Lq/9Modk25bgFAhyejotW3SzF7vV3xL5bMEvfm331Wu7v3sfCGDD5gsenL71hDmtTz1RlzWuW5fiV+xjs45vJRDpEObKN2fJa5g4yAsMwEA6A5tXXC/1yzI5I9Py9sbrZfPGrXLpwlZ5esX1MvK+yJmntL9T7747fX9ZvI03ptXHvdcxZERGanxz+7g+mD7L5EzgYzy22v6bV9wub18IYrPj0LET/EiMOeZn0hgmR8a/IOdPqZBmfqz8qmA5drs1L2rT9LVjc8ey7hN8j3Jh26s//6yf9PVTldw8ft8iySxPHxU5scprc+TErPxh4yJ5PHz2ffnDBZEzT6sN/9pQb1617qnxWbk0/v1gHG0X2NGxN+6WSxd2y1OeH06d5Vvcho63Ss7IUTlyX9z+kRPGHyeu0Of487B9XT+i8aL4bVtWveW3l9uasZ1cBfGrLxLEZObEjjv01YlZ20bt0nPoz5GVe9dP674q/Fc5TsNY+Gpxylr395Z2rvVwHqx1mPWsLOxWTpi741dPhsLcHfc82eD/AbVFKF8I6+3TbznVNylunfXRz1B4stukXV8V72Opsb/LNiwD3reyap/IrtvOEwn79O/dJX2Dq/ZN+yhr3G48Fv8NWPZHWe1TfG4u7DjL+2YOYa68c1eWTRg/YQwGOs/AY/deJ/XLr+UjmZa3HtW2t8pb56flrX1b5LPzW2Sf19+qf3SLfCYjcqjGrtXG7ePeN2xDfRH5aJ8fw77Rafls9FYxr7VxuT5cJ4/FxnLqY3X+GIeOm/GctmG8Wc+tvMRsBzn18hvFov/8zo7NHcu6j9n3bUb50HaWL6Hvbjv/nnXa+XXa6TnY+OvrJLM8eVTk/ZV+m+D60Puz8tYG7fc9eeuCyEdPmmvzPG5z39isXBr7XjCO9rHabdglly7skn2eHyvlI7HqLN/iNtS+tj0qh0w/z8ZK+Si0Ffdhox2HsatjGxsxPxwfzRimbZKtmD9ZY9s5u042xsY1cenpYSsnCbG5+Yju03Poz1dyfl0GOs0l47d+b3LnPLZGWOv+3tLWte7sG2afSnktyxqpnDB3+y/3hsLcbb98YgHCnP8lC5EI5ghQ3gk083HWJEHMbm9f+5uKJ7qFf7ct3l+/fCL+d9yCjcj7m3OuSGY2KfsjpTqe8c1/Db84IhARVYjTMeLxmT72GLW+x4U9rTf+G1/K94owV745K8vmi5+wBQPFYeDRX10r9cs98qGckTfWBW33+ie95kZuCfra9XotEtUZ+3YbfZZ1f4u8cT7NhvV83WaZkxF5wcSg9+dH5MPzlq+mzntNGlPkw71ZPlr1sfFcW2k27OeWr5rD85tlSP3y7Nb6PDRyJspjYmyuD/Z9Wg5N7i1fYjky/kavrNfirNdOzcWGe66VzLJvXOT4yqCNij4icn5Qhrx+S+VNT0D3bbx4XKy2kd2hl2fls5eXBja0z6y8uT6oXz8on4X2rpUsGyLj8mLgr9qM/NJ+s/Lmy+PWONH4XnyxOK6VDTquJ5A35kdsPNeW55PmJvIvltNYe184M/F7dq34/X7xHCXFFs/ptWLfp+Vwwz1xuzEfHQ46xSPjtm9Pqpn/Gk5Z6xtiOTF7SmvWuq7bj/b5Y6Rd23NWlrVSOWHull8MhcKcXpdjopJEsGgzck/QuTGFfxcvPMEX9XXb5navYmH4jbNtGK9FsSHMlXfucmO5RWzhH2zBQHEYWHf3l6R+uUdOyxl57RHT9u/ltU+PyMGwr1P/iApm1s+xe2Td3U6bhu4jG6f36Ni+jdPHzoQV/nPj15fk4DER8caLnkXxaX/7x47Jb+/11ybGRiwWu70bjxkv67mdM81h4MunR+T0p4HtPUcsB+32SbG5YyXdR+aiXGm7uO0oRyaO6JX1Wpz12qm5WHvXNZJZhsZFplaEbXaNzMoHQ6bPUnn9vNTcR2SOy+/vuka0z9zI0sCG9pmV19cGNtYOytz5QdkV+uHbNDZMP9/GoHxgKmJ9rpG16qf44yXG49Wbzvpq+eCNHY3rxxfde73s8Zyc+OOtkA/SxnfaayzmZ25qPIg/Pp6J27OdEFs8p0k5NiPo//BIyX2YczOf0WuneGTc9u1JNeskgVPWenz/a+Va//1UtJemXdtzVpa1UklhTgU5U8oxUWnCnJ6G09Ns9km2hE0q+Lt47YvVPqWX4E+JhA6EuXLPX/uYJ0/kGgbKzMDDv/gLKU/5TzklZ+TVh9J9PvCeyKnd6fWdi1V9PyIHmsh3frHNz5cy843v+ezPD/7Hn0sZyo4jMzJ35PZ0X/eMiUzdl17fyTib9a3Z/mHst8ur52fk1YfqzznrK5/1VeQ8FnXdV3qth2u1e9Zo5YS5Ii96fCvexo4wV7w5YZ0wJzAAA3kzMPDvfyblKXd7wtzkQIrPA5vk4h83ydZCxqS+688ZSfU/y++8Ytt5ODgic1ieyxrPqsubOeyVbx9b87M/lTKULYdnZO7wbSm+3iaT50VO7SpoLLvG/LV5fodsmXe+c4rtwR3BaecZmXywfp5Yy+Vby/Ods6Ku++qu9frr0p6z+c53p9ojzJXo9FanIKnyuAhz3f/Ltsp8Ezt8w4DPwOp/+6KUp9wlJ/RPua9xff6OHD2n/6ZNqnPblu2+87GxVtgv7//JF6UM5fGXZuTiS7fW+rrTF70S60oSW2r+Oxgbe0P37w2p3HV43VRyrS8g52VZowhzCHMl+Tt7ndn0EeY6k/eybKD4CR8w0B0MrPrXLwiFHGQxwFrvjrXezDyu+JcvCIUcuAw0wxR9y7GvuHPOfbn2gbKsM4Q5hDmEuQwGEObK8QuzLBsufsITDMAADMAADMAADMAADMAADMCAzQDCXIYoYyeK62ouHIS5as476515hwEYgAEYgAEYgAEYgAEYgAEYaAcDMWHu3LlzQiEHMBAxYAtz5CXKC7kgFzAAAzAAAzAAAzAAAzAAAzAAAzDQPAMIc4iRiLEZDCDMNb/JsFGTQxiAARiAARiAARiAARiAARiAARhIZgBhLkOUAZpkaKqUF4Q5GKgS78QK72Vj4EdTU5JHKVvc+MtahYFsBv75xAnJq5Dr7FyTH/JTRAbyeG+gNooYGz5155pDmEOYY8PJYABhrjs3Pn6hMa8w0B0M/NPbb0seBR66gwfmkXk0DPy/d9+VvIqxySt8wUB5GMjjvYHaYM7LM+dlnyuEuQxRpuyTi//NbyQIc83nEA7JIQzAQKsY6Hv1VcmjtMo/7MI+DHSGgR++8YbkVZjDzswheSfvzTCQx3sDtdGMD/SF4fkwUHhhbs36vTKfMp/gactiqccAwhyM1GOEehiBgc4x8IOxMcmjMIedm0NyT+5bwcCdExOSV2mFf9iEexhoLQN5vDdQG8xTa+eJ/Eb5LYUwd+xzkUaKCnhMbjS55KL5XCDMNZ9DOCSHMAADrWLgjkOHJI/SKv+wC/sw0BkGvjcyInkV5rAzc0jeyXszDOTx3kBtNOMDfWF4PgyURpi7cFWkXqkrzA0ukZ6enrAsWj7ZwcU2KEt6FsnySYCdD7DtboswB5/tZo7xYA4GGmfgtgMHJI9CzhvPObkiV2VgYMkLL0hepQzx4iPrEgbiDOTx3kBtkNd4XslH6/JRHWHOE+WWyGBh/qYcwlwZFjbCXOs2nzLMPz4y/zBQbAZuGR6WPArzXOx5Zn6Yn/kycOv+/ZJXme/YtIdXGOg8A3m8N1AbzGXn57Iqc1ARYW5Sli/KOp2mIpk5SWe388WzJUsWeafs9ITd4JKg3ZLBYKEGAtvy6DTekkEDsCu+mXt9NeP1SHRyz3oe2je2eO3EokSYg7tOcMeYcAcDjTHw3b17JY9CvhvLN3kiT2Vh4P8+9ZTkVcoSM36yPmEgYiCP9wZqg5xGOSUXrc1FaYS5xd99RLKKfsw19aOsk8tl0aLlMplyWk7FtlAc05N1YVtfKPPq1EZPj3iim3dtTt8FYpoR0mIn87SuVujzP77q1p3zRD9f1KsnJLYWChZdlF+EuSgXcEEuYAAGisbA3w0OSh6laHHhD2sNBppj4Dt79khehblobi7IH/nrBAN5vDdQG53wnTGruWa6RpjTL4dYmDDnCmT2/XyvFaK0Po3URafo9G/hRSfvqglnETYlhDnYKwKH+ACHMJDMwN9u2SJ5FPKbnF/yQl7KysD/2b5d8iplzQF+s36rzEAe7w3URpVzSOzt3UNKI8zpibh638yaKszFxDI3wbaQpnX2/Xyvs/rPp871kftObQwIc7DXKfYYF/ZgoD4Df7Nxo+RRyHX9XJMjclQmBv73pk2SVylT3PjKOoUBn4E83huoDfLJmmoXA6US5pr5VtbJ5Yusj6gqYIOyPPhW1uyPspqPomaJdNFHYePj6EdSrZNv3sdck+ypP37b8CO1KR+7bRcYjONvQghzbMasBRiAgeIy8Ndr10oehTku7hwzN8zNQhj4X+vXS15lIePTB25hoLMM5PHeQG0wj52dxyrlvzLCnE6qJ5qFX7pg/kacwqaim/kYqRHOzHNznyXMLRLzBRE9sb8pd07OeWKc+cKIJbG/OWe+SCIU44K/Y6cfY+3psf1jQXRqUSLMwV6n2GNc2IOB+gx8e2BA8ijkun6uyRE5KhMD//OhhySvUqa48ZV1CgM+A3m8N1Ab5JM11S4GKiXMtSaptmAHuK3JcefyijDXudx3G0vEA0swkD8D37z/fsmjMDf5zw05JaedZOBbDzwgeZVOxsHYrCMYWBgDebw3UBvkf2H5J2/zz1sphDn923GNlvZDgDDX/pzPH/SF+ogw175cL3SO6MccwUB1GfjavfdKHgWGqssQc9+dc/8/VqyQvAqMdCcjzGt3z2se7w3UBpx0NydFmt/CC3NFSha+VG9hIsxVb85Z58w5DJSHgZvvvlvyKMx5eeacuWKuGmHgq7/6leRVGhmPNnAJA8ViII/3BmqDeS3WvHbzfCDM8SULbDgZDCDMsRl38y8AYoPvsjNw089/LnmUsucB/1nLMBBn4Mu/+IXkVchtPLfkg3yUgYE83huojTLEio/dsSYR5jJEGSDvDsibmUeEORhohh/6wg8MtJaBG378Y8mjME+tnSfyS37bzUDvT38qeZV2+854rBcYaJ6BPN4bqA3movm5IIeN5RBhDmGODSeDAYS5xjYSNlzyBAMwAAMwAAMwAAMwAAMwAAMwAAPzZwBhLkOUAaj5A9VtOUOYg4FuY5p4YBoGYAAGYAAGYAAGYAAGYAAGisNATJi7evWqUMgBDEQM2MIceYnyQi7IBQzAAAzAAAzAAAzAAAzAAAzAAAw0zwDCHGIkYmwGAwhzzW8ybNTkEAZgAAZgAAZgAAZgAAZgAAZgAAaSGUCYyxBlgCYZmirlBWEOBqrEO7HCe9kY+NHUlORRyhY3/rJWYSCbgX8+cULyKuQ6O9fkh/wUkYE83huojSLGhk/dueYQ5hDm2HAyGECY686Nj19ozCsMdAcD//T225JHgYfu4IF5ZB4NA//v3Xclr2Js8gpfMFAeBvJ4b6A2mPPyzHnZ5wphLkOUKfvk4n/zGwnCXPM5hENyCAMw0CoG+l59VfIorfIPu7APA51h4IdvvCF5FeawM3NI3sl7Mwzk8d5AbTTjA31heD4MIMwhzLHhZDCAMMeGOp8NlbbwAgPtZeAHY2OSR2He2jtv5Jt8t5qBOycmJK/Sal+xz3qAgfwZyOO9gdpgbvKfG3KanNNKCnNr1u+VY59L3YX287UjspACbMmwlTEvCHPdM5dl5A+f4Q8Gshm449AhyaOQ5+w8kx/yUzYGvjcyInmVssWOv6xXGLiay3sDfX9BLllP7WIAYS7jtJSKciu3H5V3Tv3RKyNvz8jzr3woQyOnZPOB97w6rTfinblOnbypAent6ZNhe8zhPunp6fFL33C0+NOe1+k7NdAb2OuVgSmzkKZkoNe+N8/n8zosfT1pNqK64b4e6Rt27GosvQMyZfueeR3Z01yqzR47N5l9nbGbbIswl28+U9dGk/OEXeYJBqrJwG0HDkgeBX6qyQ/z3r3zvuSFFySvAifdywlz271zm8d7A7UBI93LSNHmFmGujiDws4cP14hzey1hzhblfvrw4ZTFq8JYj/T09jrCnC1A+W18USvtub0wktoMS58RwFQEDMQsFetqxLI6cdeCao9n+6HXVp2KcI6IlijWZY6fba/WN9ef/O4R5vLLZTvnjbGYNxioBgO3DA9LHgVeqsEL81ydeb51/37Jq8BNdbhhrrtnrvN4b6A2YKJ7mCj6XFZamGvk46w6gT/57Ysxce6/XzkTnpgzp+p+/NsXG1i4KjhZJ+YcEUsFtN6BKbma9twWsxLbDNQKc5ZAlwxjIBoGp/a88cNx1F9zmq/POTGXVufE6Il2Jma7j73Ruc/1Xk/nubZ0Y3Dbmme90tfXG5zMC/oPRKcR43E1vsEgzDWeq2S+6E9eYAAGWsfAd/fulTwKc9S6OSK35LYTDPzfp56SvEon/GdM1g0MNMdAHu8N1Abz0Nw8kL/G81d5YU7FOS0Xrmb/zbl/fuBgKM5NvPuxJ8wZUe5HDxxscNHGhaZQiDNCWCC2pT23wU5ro8/9j8aqsKWimxHFGoEi7p+edAsFLfXN+ihrvbrwhJ4lIEYn59Sv6GOx+jx+ys4X1nqtNib2ZBva3vLViHfm5J7n+3zyEOUKYS7KhZkDXskJDMBAURj4u8FByaMUJR78YG3BQD4MfGfPHsmrMCf5zAl5JI/tZCCP9wZqo50+M1a110hlhTn9Agi31FsM/7hqfyjOmb8x948rn5/Hgo0LX1niWiiIqWhniVvGx7S+pl5ftY0KZHGxLgF4T7gKTsaF4psvjkV/p86+t6/VnnNv+RsJadrGjOG/1n5s1/gWtY3lwQhulp1kG44/rn9GCG3gFWHOzAmv9triGh5goBgM/O2WLZJHYT6LMZ/MA/OQFwP/Z/t2yavk5RN24BsG2sdAHu8N1AZz1r45q3quKynMNTPpd977jPdFEPpFD3cutz+O2Qi0KhhZJ7csAUt9CsW2tOe2kFSvTfgR1uS/OxfmQO2Yv0sXE7CyxK2sOs2DORFnjR2zbefKtaV15pl5Ne3d+7Tnbjv33vSr/4owVz9HIUs2n1zzixwGYKANDPzNxo2SR2EfY6+Hge5i4H9v2iR5FdjoLjaYz2rMZx7vDdQGvFSDlyLMM8LcPP/hcMevngyFuTvueXKei1UFIkuYi31LqxGzrsrVtOeeYBX0T22ji8f+CKsljoVinbXAbIFPr8MTc2rD+nhow3W+bU9k1C+70L+Z5+XYsRfmPem5JaTFhMOktjqe1d6zm3Vvz0HadZQfhLkoF0XYsPCB+YABGLAZ+Ou1ayWPYtvkGsZgoPwM/K/16yWvAg/l54E5rN4c5vHeQG3ATvXY6dScI8yFAlFj0N3+y72hMHfbL5+Y52K1haBgPE/w8j/aGYlYwcdXa76Qwemf0jf6+Kg/RvZHWdVm8BHTPucLHjzxbwF1mlOvb/R35DzAbXu2QOkJa2YcPYWoPkV9vb9BZ071JdqIt3f7x+/tHKZdRywgzEW56NQmxbjMAQzAQBoD3x4YkDxKmn2ewx4MlJOB//nQQ5JXgYFyMsC8VXve8nhvoDbgqNoctXP+EebmKczd8ouhUJjT63ZOFmO1f2NAmGt/zuGcnMMADDTKwDfvv1/yKI2ORzvYhIFyMPCtBx6QvApzXo45Z56YJ5uBPN4bqA3bJtcw1koGEOYWIMypIGdKKycH251f/AhznZ8D1gFzAAMwkMbA1+69V/IoafZ5DnswUE4G/seKFZJXgYFyMsC8VXve8nhvoDbgqNoctXP+EebmKcy1c3IYq/MbAcJc5+eAdcAcwAAMpDFw8913Sx4lzT7PYQ8GysnAV3/1K8mrwEA5GWDeqj1vebw3UBtwVG2O2jn/CHMIc2w4GQwgzLEZt3NDZix4g4H5MXDTz38ueRTyPr+8ky/yVXQGvvyLX0hepeix4h/rEQZqGcjjvYHaILe1uSUnrckJwlyGKAN0rYGuTHlFmIOBMvGKr/BaNQZu+PGPJY9StbwRL3tFtzPQ+9OfSl6l23NFfOwH3chAHu8N1EY35oaYirnmEeYQ5thwMhhAmCvmxsUvFOYFBmAABmAABmAABmAABmAABmCgGxhAmMsQZbphgomhuY0KYa65/MEf+YMBGIABGIABGIABGIABGIABGICBdAZiwty5c+eEQg5gIGLAFubIS5QXckEuYAAGYAAGYAAGYAAGYAAGYAAGYKB5BhDmECMRYzMYQJhrfpNhoyaHMAADMAADMAADMAADMAADMAADMJDMAMJchigDNMnQVCkvCHMwUCXeiRXeYQAGYAAGYAAGYAAGYAAGYKC9DCDMIcxxYi6DAYS59m5I/AIg3zAAAzAAAzAAAzAAAzAAAzAAA1ViAGEuQ5SpEgjEmrzxIcwl5wVeyAsMwAAMwAAMwAAMwAAMwAAMwAAMNM9A4YW5ULG3LQAAIABJREFUNev3ynwKUDQPBTmMcogwF+UCLsgFDMAADMAADMAADMAADMAADMAADOTLQCmEuWOfizRSVMADkHwBqXo+EebgqeprgPhZAzAAAzAAAzAAAzAAAzAAAzDQOgZKI8xduCpSr2QKc4NLpKenJyiLZPmkJnVQlvSY69YlGYDLm1uEufLOHeuOuYMBGIABGIABGIABGIABGIABGCg6A9UQ5iaXy6JEAQ5hruiAdto/hDk28U4zyPgwCAMwAAMwAAMwAAMwAAMwAAPdy0CFhLklMhj7ogcV5cwJuh5ZtHwyPEG3ZMki6Vm0XCa99la7JYPBR2UnZfkit69C4gt9Xv8e3+bgkqBd2PecTC5fFJzcc33qXtDKuokgzMFkWdnFb9iFARiAARiAARiAARiAARiAgeIzUBphbvF3H5Gsoh9zzfooqxHDlgzak+KemPNFOF+k89upsOb3UTEu6WOv2scIbFZ/75Re0Ne7ttuYa9sXrou4YSDMwWURucQnuIQBGIABGIABGIABGIABGICB7mCga4Q5/XKILGHOB9YXzuKn4WyxTevd++hknP6NulDYq/s362xb9nVw2s46QcdiKu5iQpgr7tywbpgbGIABGIABGIABGIABGIABGICBsjNQGmFOT8TV+2bW+sKcAusLY77AZgtmWlfvPgBeRbnYR12NmGf3T7v2bfgn+Dg5V/QFhDAXMB/7GDjPis4t/sEoDMAADMAADMAADMAADMAADJSDgVIJc019K2soLMxHmPPb2h9t9cBWYc6cePNOzs1fmPMFQtOvHLBUcVEjzMFmFbknZriHARiAARiAARiAARiAARiAgfYwUA1hLvh7b/pRVK8YUe3cOTFfzmB/+cPySSv5sb7mhJuehjO2llgff007Jec+N33Nl0lY44UCIs+KsAkgzMFhETjEBziEARiAARiAARiAARiAARiAge5koBrCHGJX8G2y3QlxKzcnhDmYaSVf2IYvGIABGIABGIABGIABGIABGKg2A6UQ5vRvxzVaALraQOc9/whz8JQ3U9iDKRiAARiAARiAARiAARiAARiAAcNA4YU54yivQNsJBhDm4K4T3DEm3MEADMAADMAADMAADMAADMBANRhAmONjrnzMNYMBhLlqbIT8wmOeYQAGYAAGYAAGYAAGYAAGYAAGOsEAwlyGKNOJCWHMYm0ECHPFmg/WB/MBAzAAAzAAAzAAAzAAAzAAAzDQTQwgzCHMcWIugwGEOTb8btrwiQWeYQAGYAAGYAAGYAAGYAAGYKBYDCDMZYgywFosWDsxHwhzMNAJ7hgT7mAABmAABmAABmAABmAABmCgGgzEhLmrV68KhRzAQMSALcyRlygv5IJcwAAMwAAMwAAMwAAMwAAMwAAMwEDzDCDMIUYixmYwgDDX/CbDRk0OYQAGYAAGYAAGYAAGYAAGYAAGYCCZAYS5DFEGaJKhqVJeEOaKx8DYjm8Lpdo5GN32V0IhB/q76EdTU7kUeIKnegxU6b0PsRbvvQ9zwpzAAAzAQHczgDCHMMeJuQwGEOaKtwGObP2WUKqdg8ObvykUcqBvUP/p7bdzKfAET/UY4B9ExXs/wJwwJzAAAzAAA93CAMJchijTLZNMHAvfsBDmFp67VnH30uPfEEq1c/DCY98QCjnQPabv1VdzKfAET/UYaNXvNOwW730Gc8KcwAAMwAAMtJsBhDmEOU7MZTCAMFe8Tfng774ulGrn4MB/fV0o5EDfMP1gbCyXAk/wVI+Bdr9BZ7zivf9gTpgTGIABGICBVjFQSWFuzfq9cuxzQZDKEKRaBVzZ7CLMFW/zfX7D14RS7Rw8t/6rQiEH+vvkjkOHcinwBE/1GCjb+xf8Ld77F+aEOYEBGIABGEhjAGGuUXFquE96enqC0isDUwrVsPT1mOsOQjY1IL09fTKcEMtwX4/09A0jQibkJm1R2M8R5jrIdcqcDa+7WWrLCvlEROT0ioS6m+XIa9MiMi0ndyX1LdIzjSPJz7Tn9XwP8qK5CX6uvHZnYo6G15m2SePXGyfH+oNjgadj8kbiXN8sTz/yleRycFJEzsqJwYT6wSH5XEQ+OZhQl2avU881jg8ecGJ8QD6RSXl9IT55eTEE+K+fv/5Dx36QF9N2bkgOLWSsPPoEc5U6l8EYulffduBALiWVKTuebuIrjoOk8mDHn3Q9X1ZLxJfLhP3egOvivTdgTpgTGIABGICBMjOAMJfyj//YpHrCV5IA12lhbkoGenukp7c3WZjz/EaYi81lI/NttUGYK94G/+TDX5bacp98LNNy5eK0HN/p1mud/iTVuW07fe/HkRyD8T+tTZLvbtsgF6fuS8nhy/JKYn6TbLfymfqZ7ssTD/2lJJYDKsypQLu6pv6V02flypzIxwdS+qbZ7MRzjaMmhtXysUzKK8afHUNyZW5IXjD3Wa819tRWcp6eqGnbqXz9gxyfOyvHd6SPr3v7LcPDuZREntycdi1fDg9NsaXz5bBq57FEfLlMNPNegr7Fey/BnDAnMAADMAADRWKg0sJcwx9nTTyRpqKcOUHXI70DU+EJur6+XunpHZApT+Cx2oUn1wJBLejv99WF4Qt9Xv8e36Z34k3bhX2TFpD2c0/M6Rh9Mqwn/TL7JtnjmVmkCHPFY2HotzdJbVkuszIts6em5crkHfH6/aMip0a9+mPbkvoW6ZkfR62f9nP7up7vCW23bZcrMiqTNXnUtknP643RivpsX3b/5iZJLPtV0JqUWZmUiVibfpmdG5Kp0yKz+1P6xtp3uI0XR78TY388rq1DcnluSA404neqvbMytdWJNbGt06aRMZtu0ydTcwn+WXZ1n/7u3r25lESerLG8+q7nK8h3Lmy5azBgqER8uUyY9wW8Fu99AXPCnMAADMAADJSdgcoLcyrOablwNftvzk0N9HofY+0btqH3hTT/Y6363BfhIqHtqqiw5vdRoSzt1J0R1az+wWk3r2+iMOj6YWz4z8NxEeaa+hgvwpzNWTGud625UWrLMpmRaXlvs76OynjYZqm8d9E819eg7+Ztctk/WyUStg9sPBvVzTx7ozw/oR+D9X8uTyy1xlbbpkZE2+5aU2vD7+O39dsEPjw7KnJxmzwf+mr1N36GdXZ80ZhycpnvTywe40uavQRfvHHc3N0o4ycTxlrjxp1gL4wt8HtiNDRUP4fGb3seg5wF+di5+kZJLM9NiJzql/2TZ2XmuaiN3l+e7Pfmy34+fip0Sy5P3unZtNtqrfdc7QY/dn/1oREb+pFMZW+n2rm4R/aH/vfLjKkLnwXtTvU7MWrbCRnXdpv3WPxKGKvtS2ycIC9uzrS9G4/noz22FXsYh/pgP9eYMmJzcxrzLSWHO1ffKe9dDPJm58a61jdgfzc4mEtxc5N4H+SxO/nyWZ6ZzIMti1VrvrycBjkM82tzZK8F+3mH+Ap9DGIo+xt+/C/GexjmgXmAARiAARhIYqCywpx+AYRbkhIUf+YLZ/HTcLbYlizURX+bzoh0V+Vq3b9ZZ9uyr5NA1vpImFMRMRQHEeYQ5qyP5sZ5TmKp+M+2998gtWWZTMu0vLNpsYyeEJl+ZrHfZtM2uXRhmzzbH9Vvj13fINufGZFLR5eI/1xEvPaLveeqxfh1fjuRERntV9tL5J0LVl3ok45j2dDxA790HDmxLPQ95qfb36hAsVc/vhr/vXicmM2YbqzeOL7vYY5iY5v43Bxb+XPi8ObCeRbFFuTDxK3t6uZQx9Z+ab7cIFtXLU4uwxMiJ1fJ1k275fLF3TLstfuBvHtxQkZX6avIzLDfd/RkdL3Vq5uVdzctluGJWRHxr7euWiUzOgdqU22p/dBu0NbUWT7FbQTtvH7qg7Ed2Evo740Tm3tzo3EEscdiXCwaT+jnKsc3kxfTN3iN5yCwm9I2jN/z14nDs+c8s+zE8xGfB68uKQfWnKTNt+5nf7tlSy4lbYzYcxNTLPcaTwn5Ssh5yEMsvgbYMnjGXi1Wbe5MDu1n5jqsc1jqEF+xuV+1uKn3Et3wu5cYiv/+iDlijmAABmCgvAxUUphrDlj/Y6j+KThXMKt3H4CiYlnso65G3LP7p10nwaZtjTCn19FHbENRkI+zLuhNNSfmknjr7LPNK66X2rJMzsi0vL3xetm8catcurBVnl5xvYy8L3LmKW3v1Mf+ASki7y+Lt/HGsPq49zqGjMhIjS9uH9cH02eZnAl8jMdS29+vt5/b10G8ji+JcYe+3i5vXwhyFT4zOTL+BTl+SoU082PlVwXLsduteVCfTF87NsfXmnkwfdw5te25ddfL4/ctSi5PHxU5scqrO3JiVv6wcZE8Hj77vvzhgsiZp7Wvf20iM69a99T4rFwa/35gX9sFdnTMjbvl0oXd8pQ3vlNn+RS3oeOtkjNyVI7cF7d/5ITxx4kn9Nl+Htnw4q/ri9U+0d4iSRy/pq2TqyB+7StBTGY+7Lht2/ZzbRvdp+fQnyMr91Z+zXj6u/xvNm7MpRibma9WbrqPL4uHptmy2HPnzcqhn+vi8uWy0Nx7x87+3sR38g8DMAADMAADxWYAYW7ep4nmI8z5bcPTa2Ys+xSbd3IuT2HOAc4ey4zPa8MiHcKcw1MB2Hns3uuktvxaPpJpeetRrbtV3jo/LW/t2yKfnd8i+7z2Vv2jW+QzGZFDNXasNm4f975hG+qLyEf7fJ/3jU7LZ6O3innNjsOO0/bNvr5OHkvw5dBxM6bTVuNIaO/7oW2tvMTaBTn18hvFotJMdmzu+NZ9zL4dq147vjhztfHX10liefKoyPsr/brg+tD7s/LWBm3/PXnrgshHT5pr8zxua9/YrFwa+15gX/tY7TbskksXdsk+b/yV8pFYdZZPcRtqX9selUOmn2djpXwU2or7sNGOI7Rr27hONsZ8cfw045gxk+xpf1MfjnGdxMe2c+aOaeLSE6JWThJic/MR3afn0J+v5Pyaudc3mH+9dm0uxdjMfLXz2G182Tw0y1aM9yy2i82XywL/oCne+wHmhDmBARiAARjoFgYQ5hoRGsy3m5qTaNbpM/PlDL74Zp9yCxZJrG/Cqba+PunrQZgr6oJCmCveZv/or66V2nKPfChn5I11Qd1e/6TX3MgtQVu7Xq9Fojpjz26jz7Lub5E3zqfZsJ6v2yxzMiIvGJ/1/vyIfHje8tXUea/umEm+uW30XuTDvUHb2Jh12taMbfmqOTy/WYa0jWez1uehkTNRHhNjSxrf2EnLocm95UvMz2tlwz0pZd+4yPGVQb2KPiJyflCGvPZL5U1PJPX7vnhcrLaRvaGXZ+Wzl5cGNrTPrLy5PqhfPyifhfaulSwbIuPyYuCn2oz80n6z8ubL49Y40fhebLE4TJ3GE9ncUMeX2JiuPe3riarGtvUaa+sLZyZ+z6YVvz8P8RwlxRbP6bVi36flcMM9cbtJc66/N749MJBLSbJf86wmN13Cl8tDM2x5zDus2uu1JofR+ioaX+78F/V9Cn4V730Kc8KcwAAMwAAMzJcBhLlGhDnaNHzCbL4AFr09wlzxNtV1d39Jass9clrOyGuPmLq/l9c+PSIHw7ZO/SMqmFk/x+6RdXc7bRq6j2yc3qNj+zZOHzsTVvjPjV9fkoPHRMQbL3oWxeP6YNrEn3s2dARjJxaPnQftZ//Ydca2edW2ds40h0HfT4/I6U+DvnuOWAbt9kmxxf02+YnmKe5flCvXF+Oj/7r2rmsksQyNi0ytCOt2jczKB0Om7VJ5/bzU3EfBjMvv77pGtM/cyNLAhvaZldfXBjbWDsrc+UHZFY7v2zQ2TD/fxqB8YCpifa6Rteqn+OM1EoffZoV8EOsTje3HGN17w9pjeuMZZ/TViimMJYgxIYem59zUeBB/fCwTt+dnQmzxnCbl2IygonZK7l0/77rG+730zfvvlzxK4jy4YybkprR8RSlP4CGa34bYstZcMqtmDQbsW+2VDfNTNL5cJor+fgX/ivd+hTlhTmAABmAABhplAGEO0a2yolsjiwRhrnib6cO/+AspbvlPOSVn5NWH0n088J7Iqd3p9Z2LTX0/IgeayG9+sWX78uB//LkUuew4MiNzR25P93HPmMjUfen1nYyvWd+a7R/Gfru8en5GXn0ofa51D//avffmUorMk+sbfOWxdurz5ea9kfcMtCneewbmhDmBARiAARgoAwMIcwhzCHMZDCDMFW8jH/j3P5Pilrs9YW5yIMXHgU1y8Y+bZGshY1Df9eeMpPqf5Xdese08HBygOSzPpYy35md/KkUuWw7PyNzh21J8vE0mz4uc2lXQGHaN+fk/v0O2zDvPOcX24I7gROuMTD6Ynid9k3Xz3XfnUorMk+sbfKUz4eYq8b5Bvty+ZXhTj4/Fe8/CnDAnMAADMAADjTCAMJchyjSSQNp090JDmCve/K7+ty9KcctdckL/zP8a18fvyNFzqnck1blty3bf/tju/8kXpcjl8Zdm5OJLt9b6uNMXvRLrCh5T3Xx3IDb9/XvTz3+eS6kbX4HmB746s/55v1e89wPMCXMCAzAAAzDQLQwgzCHMcWIugwGEueJt9qv+9QtCqXYOVvzLF4RCDvSN2A0//nEuBZ7gqR4D3fLGnziK976GOWFOYAAGYAAGEOYyRBkWCAsEYQ4G2AdgAAZgAAZgAAZgAAZgAAZgAAZgoFUMIMwhzHFiLoMBhDk231ZtvtiFLRiAARiAARiAARiAARiAARiAgZgwd+7cOaGQAxiIGLCFOfIS5YVckAsYgAEYgAEYgAEYgAEYgAEYgAEYaJ4BhDnESMTYDAYQ5prfZNioySEMwAAMwAAMwAAMwAAMwAAMwAAMJDOAMJchygBNMjRVygvCHAxUiXdihfcyMTC67a+EQg5cBpThsR3fplQ8Bz+ampK8itkXXda4Z/9RBgwfvPIeCgZgoBkGEOYQ5viFksEAwhwbbDMbLH3hBwZax8Dhzd8UCjlwGdA1N7L1W5SK5+Cf3n5b8ipmH3dZ4579RxkwfPDaut/35JbcVoEBhLkMUaYKABBj9kaHMJedH/ghPzAAA51i4IXHviEUcuAyoDy+9Pg3KBXPQd+rr0pexexxLmvcs/8oA4YPXnk/BAMw0AwDCHMIc/xCyWAAYY4NtpkNlr7wAwOtY+DAf31dKOTAZUDX3MHffZ1S8Rz8YGxM8ipmH3dZ4579RxkwfPDaut/35JbcVoGBSgpza9bvlWOfCxtphiBVBfgbiRFhjl8EjXBCGziBgfYz8Nz6rwqFHLgM6Fp8fsPXKBXPwR2HDklexezvLmvcs/8oA4YPXtv/PoCck/NuYgBhrlFxanCJ9PT0BGWRLJ/UhTAoS3rMdQcXxuRyWdSzRAatWAaXGF/1NV7XTQC3OhaEuQ5ybfHc6nnGPvMMA+Vj4OlHviKZ5eCkiJyVE4MJ7QaH5HMR+eRgQl09u+2u1zg+eMCJ9QH5RCbl9YX44uVFYj+fv/5Dx36QF9N2bkgOLWSsPPoEc5U6l84YupaH192cUFbIJxr16RUJdTfLkdemRWRaTu5K6lukZxpHkp9pz+v5HuTFIuLKa3cm5mh4nWmbNH69cXKsPzgWeDsmbyTO9c1y24EDuRXz+yFzv1EOu2nPsXjQy9Q9wll/NTma7/5V0j3HMMJr+d5LMGfMWVEYQJhr5B//nvCVJMB1WpiblOWLeqRn0SJHmNPnSf6y8Oa78BDmYGa+zNAeZmCgPQw88dBfSmY5oMKcCjGra9q9cvqsXJkT+fhAHRv1xmhHvcZRE8Nq+Vgm5RUz/o4huTI3JC+Y+6zXGntqKzlPT9S07VS+/kGOz52V4zvqj6/r78mHv5xQ7pOPZVquXJyW4zvdeq3Tn6Q6t22n7/04kmMw/qe1SfLdbRvk4tR9KTl8WV5JzG+S7VY+Uz/TfblleFjyKmZPz9xvdM117Z7j7BFN7Te6hp39y96vSrrnGEZ4bc/vf/JMnruRgUoLcw1/nDXhRJp/Wi46lbZo+WR4gm7JkkXSs2i5THqin4p3Qbslg8Fx50BQC577fXWB+UKf17+nR/R5ePIt7Ju0ELWffSoOYS6vxYowl8Qbz/LiCzuwBAMLZ2D3b26SzLJfBa1JmZVJmYi17ZfZuSGZOi0yu7+OjVi/DrX14uh3Yu2Px7V1SC7PDcmBRvxNtXdWprY6MSa2ddo0MmbTbfpkai7BvwS7uqaGfntTQlkuszIts6em5crkHfH6/aMip0a9+mPbkvoW6ZkfR62f9nP7up7vCW23bZcrMiqTNXnUtknP643RivpsX767d6/kVcw+nbnfKItdv+cEazCX/cbdl4N9paR7jmGE14X/Tid35K7qDFRemFNxTsuFq9l/c25y+SLvY6xLBu1F456Y80W4SGg75wlrfp80scwW1az+nhjYI17fRGHQ9cMV5lzR0G7PdaMLH2EOVhplhXawAgPtZWDn6hslszw3IXKqX/ZPnpWZ56K2en95sl/euyix5+OnvCNT3n8uT97p2bbbaoX3XO0GP7Zd9aURG/qRzPc23yg71c7FPbI/jKNfZkxd+Cxod6rfiVXbTsi4ttu8Ry4bhySKyfYlNk6QFzd32t6Nx/PRHtuKPYxDfbCfa0wZsbk5jfmWksOdq++U9y4GebNzk3Ct63DXmhsTyjKZkWl5b7O+jsp42GapvHfRPNfXoO/mbVZeTfvAxrNR3cyzN8rzE/oxWP/n8sRSa2y1bWpEtO2uNbU2/D5+W79N4MOzoyIXt8nzoa9Wf+NnWGfHF40pJ5f5/sTiMb6k2UvwxRvHzd2NMn4yYaw1btwJ9sLYAr8nRkND9XNo/DbzEuQrzMWN8neDg7kVs7e7a6bmXrnv2j3H399mJvPYb6z9y13DQQ7D3Op9+GPtAfbzAuw5hhFe2/s+gHyT725ioLLCnH4BhFvqT6wvnMVPw9kfGdV69z4SyPRv1IXCXt2/WWfbsq+TFqDW28Kc3aZeX7st1y4DCHMw4TLBPUzAQDEY2LpqsWSW4QmRk6tk66bdcvnibhn22v9A3r04IaOr9FVkZti3MXoyut7q1c3Ku5sWy/DErIj411tXrZIZ/Qei2lRbaj+0G7Q1dZZvcRtBO6+f+mBsB/YS+nvjhP8wtS80jiAHsRgXi8YT+rnK8c3kxfQNXuM5COymtA3j9/x14vDsOc8sO/F8xOfBq0vKgTUnmXO+arH3yYTt/TdIbVkm0zIt72xaLKMnRKafWey32bRNLl3YJs/2R/XbY9c3yPZnRuTS0SXiPxcRr/1i77nOiF/ntxMZkdF+tb1E3rlg1YU+6TiWDR0/8EvHkRPLQt9jfrr9bRTCaz++Gv+9eJyYzZhurN44vu9hjmJjm/jcHFv5c+Lw5sJ5FsUW5MPEre3q5lDH1n5pvtwgf7tlS27F7Pn12PPWqvIbW4/KeAn3nIR1GO4Rsfga2G9CPu0La/+y9yJrr6jJd1jn7C8F2HMMI7wW4/0B88A8lJGBSgpzzU2U/zFUX2BzRa9698EiUVEu9lFXI+bZ/dOukxaatk0T5uxTe0l9eZbFA8IcfGTxQR18wEDnGHj8vkWSWZ4+KnJildfmyIlZ+cPGRfJ4+Oz78ocLImeeVhv+tf1PRr3WuqfGZ+XS+PeDcbRdYEfH3rhbLl3YLU95fjh1lm9xGzreKjkjR+XIfXH7R04Yf5y4Qp/t55ENLwd1fbHaJ9pbJInj17R1chXEr30liMnMiR23bdt+rm2j+/Qc+nNk5d7KrxnPvOqa3Lzi+oSyTM7ItLy98XrZvHGrXLqwVZ5ecb2MvC9y5ilt79S7QLy/LN7GG8Pq497rGDIiIzW+uH1cH0yfZXIm8DEeT21/v95+bl8H8Tq+JMYd+nq7vH0hyFX4zOTI+Bfk+CkV0syPlV8VLMdut+ZBfTJ97dgcX2vmwfRx59S259ZdL3+zcWNuxezzhrHUV2u9dN+eY+0RTe831n7krmUrh36ey7HnGEZ47dx7AnJP7svOAMJcI1/+EGszH2HOb2t/tNUDRoU58zfjvJNzrRTmbIGPBTvfBYswBzPzZYb2MAMD7WFg46+vk8zy5FGR91f6bYLrQ+/PylsbtN/35K0LIh89aa7N87jNfWOzcmnse8E42sdqt2GXXLqwS/Z5fqyUj8Sqs3yL21D72vaoHDL9PBsr5aPQVtyHjXYcoV3bxnWyMeaL46cZx4yZZE/7m/pwjOskPradM3dME5eeBLNykhCbm4/oPj2H/nwl59dlQNffY/del1B+LR/JtLz1qNbdKm+dn5a39m2Rz85vkX1ee6v+0S3ymYzIoRo7Vhu3j3vfsA31ReSjfb7P+0an5bPRW8W81sbi+mBitZ/b19fJYwm+HDpuxnTaahwJ7X0/tK2Vl1i7IKdefqNYVLLLjs0d37qP2TdxmlfHF2eu/nrtWsmrmD3dZa3m3l5b3bbn2HtEs/tNbA/M2u/Ks+cYRnhtz+9/8kyeu5EBhLmY6JYCefD33vSjqF4xoto5/zSaPvPFtwQRLNbXnGrTdsbWEuvjr3b/tOskH7WtsX1OzsXGtD4+20istAm+oMPPM8JcEm8868ZfBsQE12VjYMM910pm2Tcucnxl0EZFHxE5PyhDXr+l8qYnhvg2XjwuVtvI7tDLs/LZy0sDG9pnVt5cH9SvH5TPQnvXSpYNkXF5MfBXbUZ+ab9ZefPlcWucaHwvvlgcpk7jiWxuqONLbEzXnvb1xBNj23qNtfWFMxO/Z9OK35+LeI6SYovn9Fqx79NyuOGeuN2seVeOH/3VtQnlHvlQzsgb64K6vf5Jr7mRW4K2dr1ei0R1xp7dRp9l3d8ib5xPs2E9X7dZ5mREXjA+6/35EfnwvOWrqfNe3TGTfHPb6L3Ih3uDtrEx67StGdvyVXN4frMMaRvPZq3PQyNnojwmxpY0vrGTlkOTe8uXmJ/XyrcHBnIrZm/M4q52rXbRnuPuEc3sN94+6Oxf9l5e0j3HMMIr76VgAAYWygBbvD1xAAAVzUlEQVTCHEJUTIhaKEjd2g9hjs21W9kmLtguOwNr77pGMsvQuMjUirDNrpFZ+WDI9Fkqr5+XmnvzgTwV0n5/1zWifeZGlgY2tM+svL42sLF2UObOD8qu0A/fprFh+vk2BuUDUxHrc42sVT+D8RLjceLw26yQD2J9orH9GKN7b1h7TG8844y+WjGFsQQxOmNrLOZnbmo8iD8+lonb8zMhtnhOk3JsRlDxKiX3rp/WvXK97u4vJZR75LSckdceMXV/L699ekQOhm2d+kdUMLN+jt0j6+522jR0H9k4vUfH9m2cPnYmrPCfG7++JAePiYg3XvQsisn1wbSJP/ds6AjGTiweOw/az/6x64xt86pt7ZxpDoO+nx6R058GffccsQza7ZNii/tt8hPNU9y/KFeuL8ZH//Wb998veRWzVyauT4s9by13y55jzWDtHhGt+Yb2GysnyfuX2ZeD/dBqX5Y9xzDCK++tYAAGFsoAwhzCHMJcBgMIc2yuC91c6Qc7MNBaBh78jz+XMpQdR2Zk7sjt6b7uGROZui+9vpNxNutbs/3D2G+XV8/PyKsP1Z9zXXcP/+IvClz+U07JGXn1oXQfD7wncmp3en3n4lPfj8iBJvKbX2zZvnzt3nslr2L28jLsN+oje04e++n89hzDCK+t/b1PfslvNzOAMJchynTzxBNbYxsbwlxjeYIn8gQDMNBuBtb87E+lDGXL4RmZO3xbiq+3yeR5kVO7ChrLrjH/3Mz5HbJl3vnOKbYHdwQn12Zk8sH6eVIOB/79zwpc7vaEucmBFB8HNsnFP26SrYWMQX3XnzOS6n+W33nFtvNwcJ7rsDyXMt7Nd98teRWzt5Vhv1Ef2XPq7xOZc7mAPccwwivvhWAABhbKAMIcwhwn5jIYQJhjc13o5ko/2IGB1jJw/0++KGUoj780IxdfurXW152+6JVYV5LYUvPfwdh03a3+ty8WuNwlJ/TrP9a4Pn5Hjp5TvSmpzm1btvv2x3bTz38ueRWzl6fyXrD1yp7T3t8Nhg9eW/s7n/yS325nAGEuQ5Tp9sknvvobHMJc/RzBETmCARjoBAMr/uULQiEHLgPK4qp//QKl4jm44cc/lryK2d9c1rhn/1EGDB+88l4IBmCgGQYQ5hDm+IWSwQDCHBtsMxssfeEHBmAABmAABmAABmAABmAABmAgiwGEuQxRJitx1FVjYSHMVWOeWc/MMwzAAAzAAAzAAAzAAAzAAAzAQCcYiAlzV69eFQo5gIGIAVuYIy9RXsgFuYABGIABGIABGIABGIABGIABGICB5hlAmEOMRIzNYABhrvlNho2aHMIADMAADMAADMAADMAADMAADMBAMgMIcxmiDNAkQ1OlvCDMwUCVeCdWeIcBGIABGOgGBsZ2fFso5EAZGN32V5SK5UD3sB9NTeVS1BYMlXsNleV3GsIcwhwn5jIYQJjjHyhl2czxE1ZhAAZgAAZgwGdgZOu3hEIOlIHDm79JqVgOdB/8p7ffzqWoLRgq9xoqy+9FhLkMUaYsk4ifrXsjjjDXutzCLbmFARiAARiAARhoBQMvPf4NoZADZeCFxyhVy4HuKX2vvppLUVtVy1+3xduK3zGtsIkwhzDHibkMBhDm+AdDKzZebMIVDMAADMAADLSOgYO/+7pQyIEycOC/KFXLge6tPxgby6Worarlr9viLcvv2koKc2vW75VjnwuCVIYgVRaAW+0nwlzr3jS3eu6wz9zBAAzAAAzAQDUZeH7D14RCDpSB59Z/lVKxHOi+f8ehQ7kUtQVD5V5DZXkfgDDXqDg13Cc9PT1B6ZWBKX2jMyx9Pea6g298pgakt6dPhmOxTMlAr+tvB32M+VYePxDmyjNXZdl08ROmYAAGYAAGYKC1DAyvu1mSywr5RETk9IrE+iOvTYvItJzclda/KM81jiQ/057X8zvIi+Ym+Lny2p2JORpeZ9omjV9vnBzrD44Fno7JG6nzfbM8/chXonJwUkTOyolB65mpHxySz0Xkk4MJdaZNUV41jg8eiOLy/HpAPpFJeX0hPnp5MTPvv37++g8d+0FeTNu5ITm0kLHy6BPMVdpc6v5624EDuRS1FWNI/e8mjuLTLqnzXm/e5stkGzkqy+9bhLlGBCNP+EoS4DotzAXiW29vjTA33NcjvQNTnApsZH4z2iDMtfaNc1k2SvyEAxiAARiAARgoDwNPPvxlSS73yccyLVcuTsvxnW4brdOfpDq3bafv/TiSYzD+p7VJ8t1tG+Ti1H0JedS6l+WV1Bwn2W/Vs/q+PPHQX0pYDqgwp8Ls6uhZUP/K6bNyZU7k4wNWe7tvka41jpoYVsvHMimvGD93DMmVuSF5wdxnvdbYU1vJeXqipm2n8vUPcnzurBzfUTu+7tW3DA/nUtRWyI/JYddy5Mx7UwzpvDhMmvzpaxs5Ksvv7koLcw1/nDXxRJqKcuZEmhHBfKGur69XenoHZMoTfKx2fcOBUGafZjN99c2O1b/Hf64Cm3dSL+yb9KZI+1kn5tTfcPyk9jxrdIEizMFKo6zQDlZgAAZgAAZgoBgMDP32Jkkuy2VWpmX21LRcmbwj3mb/qMipUa/+2La0/kV57sdR66f93L6u53dC223b5YqMymRNLrVt0vN6Y7Sivr4vu39zk4RlvwpakzIrkzJhP/9Nv8zODcnUaZHZ/Vb7WJsCPffi6I/i8vzsj8e1dUguzw3JgUZiSLV3Vqa2OnEntnXaNDJm0236ZGouwb/f3OT9e/u7e/dKHkX39JAf43PXcxTkNReG3LUWsNJGjsrye7nywpyKc1ouXM3+m3NTA72eQNY3bL/h8IU0/2Ot+twX4eyTaiqs+X1UjEs7dWdENau/JwYGfROFQdcPY+OqXNWP3fb1RcIhIt2CTw4izNmccV2WjR0/YRUGYAAGYKDKDOxac6Mkl2UyI9Py3mZ9HZXxsN1See+iea6vQf/N2+Syf8ZKJGwf2Hg2qpt59kZ5fkI/Buv/XJ5Yao2vtk2NiLbdtabWht/Hb+u3CXx4dlTk4jZ5PvTV6m/8DOvs+KIx5eQy359YPMaXNHsJvnjjuLm7UcZPJoy1xo07wV4YW+D3xGhoqH4Ojd/2PAY5C/Nxo+xcbZXnJkRO9cv+ybMy81z0XO8vT/Z782Q/Hz8VuiOXJ+/0bNlttdZ7rnaDH7u/jt2IDf1IpjK3U+1c3CP7Q5/7ZcbUhc+Cdqf647Gt1rYTMq7tNu+xuJUwVtuX2DhBXmK5Cnx34/F8tMe2Yg/jUB/s5xpTRmxuTmO+peRw5+o75b2LQd7s3Ky+0ft3398NDkoeRfdRNy8mB93Jkc/szGQeDFlMOnNkchjm1ubFZt5+Hlsb0foNbbhjBPdl+V1YWWFOvwDCLfUnzRfO4qfhbLEtWaiL/jadEekC8Sw8cWds2P3TrpPeaGpbR5iz7vlYa1LOGnuGMNdYnuqvHeyQIxiAARiAARiAgfYwsL3/Bkkuy2RapuWdTYtl9ITI9DOL/XabtsmlC9vk2f6ofnvs+gbZ/syIXDq6RPznIuK1X+w9V03Gr/PbiYzIaL/aXiLvXLDqQr90HMuGjh/4pePIiWWh/zE/3f5GDYq9+vHV+O/F48RsxnRj9cbxfQ9zFBvbxOfm2cqfE4c3H86zKLYgHyZubVc3hzq29kvzxfdt66rFEpbhCZGTq2Trpt1y+eJuGfbqfiDvXpyQ0VX6KjIz7LcfPRldb/XqZuXdTYtleGJWRPzrratWyYzmXm2qLbUf2g3amjrLj7iNoJ3XT30wtgN7Cf29cWJzbm40jiDeWIyLReMJ/Vzl+GbyYvoGr/EcBHZT2obxe/46cXj2nGeWnXg+4vPg1SXlwJqTcH4Dv3Wf/dstW3Ipasu17+VffYrlWP0uIUcJuQ3nPRZfAwwZDP9/e+fWG9V1xfGvU6UXYhlUqQ9VHypVfehbHxqCUPIB2rRqUxW5LiAMqIos0hjFyErASMQGRw489CFJE/AE20IkwYlUbuLiAb+0jGP7G/yjfc7Z56xzG489Y/vMzG+krXPZe6+91m/958zx0plxams0afVl8l/Kt0mOc3Os7cx+t3zu9mVhrr3khF9DDZ+Cs8Uzd6Ox2XF0M+KeaIufYrNzWtkvuqFx8zKFOfvV1+AJOv812qL5nCvTBIU5tFGmDc6jDTSABtAAGkAD1dTAhZEDKm7HVNczfTNxQBcmLmpj9aKujRxQ7YFUv+rmZPpTf2BKenAsPSZYx8zJHrs1VFMt5092TtYHP+eY6pGP6Xjy88N+e97uR/FmfCmMO/b1kL5ZjVjF5zwj71/E+aorpPmX4esKlvOHTC6cT36ujS3jay4Pfk42r9Zeti88Pn9iv+J2bVF6eCo4nnu4om8n9ut8fO51fbsq1a+58eG+j8hvXd/VhRVtLLwe2XTjIjtunYnL2li9rKvBmpk+40fahlvvlOpa1NyJtP25h94fE4OzE/tszyc2gng39cWML7S3X4Xr58ZmWEXxu7mKYvL8bdzWtj3vxibH5QzDHBn2hq+7Lv9mYqIjzdny/sdbw6D3dGTy3raGjMZMfgKOhmHItXUdxXnI2iw57pbPaQpzTX74vziJWynMhWPtV1sDm7ZQ5vbj/+zaocJcpkDIE3Pbv2mkMLd9dsXvH+zBBQ2gATSABtAAGthZDbx3fFDF7aiW9UxL51z/QS01nmlpdlLrjUnNBnNM/7lJraum6zlbZkx2Tva4ZRvOF2l5NvR79otnWv/ioPw2H0vWBx+vPW/3B/VegS/X7/s1M2NdHAXjQz/cWMMlNS5iGvBNYnElmuaxZdc3xyn7Pk6/zfiSy9WgJo6a9tGi9OBkeC7av/5gRUvjbsxrWlqVlj/y+/68mX90ULPzK9qYfy2y6+aYcePT2lid1myw5kkty/QZP9I2nH03dlHX/bzAxkktx7bSPkzYOGK71sagJlK+ZPz06/g1i+y5+b4/XmNQ6bUts+yaPi73ZKhhUhBblkdyXM4wzFcxX3d9/fXYWEeas5XSkGNhefWajmze29VQStfNNLxVHWVsWX0W7HfL5y2FuVYKc9HvvcVfSTVPo/l/zhAW32xhLbrhSM31T7W5cf6fOrjfguvwV1ldTEHBz6/B03LbfUNSmNvZG+ft5oV55AUNoAE0gAbQABoo08C5fwyouA3rqer6+mzU/2H4pNda7ZVovO13+1LS523aMe5cs+NX9HWjzIY5f/aC1lTTf7zf7rhR09OG8dX3BdvsmkW+Zce4Y+nph9HY1JqbjM2tbXx1DBsXNOPGBDbzPs/U6gnHwtiK1vd2yhh69saXlJ9hnOPDA4rb7IJ0/2R07Io+khpTmgnGHNadoDgajv/svszYxMbMzRWt3zwc2XBzVnTn3aj/3Smtx/YG1MyGtKDPIt+czcQvN29Fd24umHWS9YNYUnH4PhdPYnN8E19Sa2btublBMdXbNtvU2LBw5uMPbJr4Q+5pRkWxpZkOyB6XMRwfTtuNczw8EPzG3K9GR9WJ5q4x1naefw/pKJv3djQUaDujyabvxeR9tJmOnCaWZ0NNlu3bnJV9TlTtPIW5VgpzjNn2P0+omuC36g+FOW76t6oZxqMZNIAG0AAaQAN7q4GzQy+ruA3rser68h3f/zt9+WJOn8TjM/3vuIKZed0d1tmhzJiWjhMbj6+4tUMbj+/W447wvPfrZX1yV1KwXnIuiSnrgx+TPh/YcCt4O6l4LAc3z75sn7ftt26sZeYYRnNfzOnxi2julTlj0I4vii3tt+eT5CntX8Iq64v3MdmOHdmnuM0sSPdG4uPp2oqezPj+w/qqodxxEsSCPj2yT27OWu1wZMPNWdFXY5GNsSmtNaY0Ha8Z2vQ2/LzQxpSe+I7UnH0ac34qXC/2PbYZ9Zs4wjEjepKak6wdxpgcB8vaNYP1vDNua2Ky67r9AoZ+5tq9hSj+9Fo+7sDPgtjSTIsY+xVcMbuEvfHTXX9/efp0R5qzlctBAYOu1VGCtiDvSR5b0tCmmvTvtfZ09Om95H1atm9z1i2fxxTmKLr1bdGtlTcphbm9vbFuJUeMIUdoAA2gATSABtCA1cC//vYTVbv9XY9U1+23y/38+L/So8vl/XsXn/N9Th+3wbhzsW3uy5m//lhVa5fmnmtt7lC5X1fmpXsnyvv3MqZ2fWt3fhz7Id1uPNftt/P5ddeCXxw/3pHmbFVNP96fvtZRrIN8/j0fv7WfDVXepzBHYY7CXBMNUJjjRr/KF3B8Q59oAA2gATSABvIaGP3Lj1TtNhQU5m6Nlvg5+r6++//7uljJOJzv7lVXqf/N/O5UbB/ciJ71uaF/N1nvrT//UFVrkzeea+3GqyV+vapbDenRdPX8DjhOz4fcG5c0uWW2HYrtzKXoSdbnunUmz8ldE38+NNSR5mxVTT/en/7VUT7nnknRtls+IynMNSnKdEsS8TN/Q9YpJhTmdo5tp3KEHXKEBtAAGkADaAANWA38808vqdrtiB66n/t/K+vnb7X4P1f3KOrLju22472J7fQfX1LV2vnPn+u7zw/m/fogLHoV9lUwji1x3cXY3LXgZ2++2ZHmbG0pzl3MU1/qaBt87WdDlfcpzFGY44m5JhqgMMeNfpUv4PiGPtEAGkADaAAN5DVw6g8/EA0GTgMjv6f1GwN3TfzpG290pDlb/cav1+Ltls9ICnNNijLdkkT8zN+QdYoJhbmdY9upHGGHHKEBNIAG0AAaQANoAA2gATSABtBAt2qAwhyFOZ6Ya6IBCnNc3Lv14o7faBcNoAE0gAbQABpAA2gADaABNFB9DaQKc9EvaLKBAAQiArYwBxQIQAACEIAABCAAAQhAAAIQgAAEINBJAhTmOkkTWz1HgMJcz6WUgCAAAQhAAAIQgAAEIAABCEAAApUhQGGuMqnAkSoSoDBXxazgEwQgAAEIQAACEIAABCAAAQhAoDcIUJjrjTwSxQ4RoDC3Q2AxCwEIQAACEIAABCAAAQhAAAIQgIAozCECCDQhQGGuCRy6IAABCEAAAhCAAAQgAAEIQAACEGiLAIW5tvAxudcJUJjr9QwTHwQgAAEIQAACEIAABCAAAQhAYO8IUJjbO/as3AUEKMx1QZJwEQIQgAAEIAABCEAAAhCAAAQg0KUEKMx1aeJwe3cIUJjbHc6sAgEIQAACEIAABCAAAQhAAAIQ6EcCFOb6MevE3DIBCnMto2IgBCAAAQhAAAIQgAAEIAABCEAAAlskQGFui8AY3l8EKMz1V76JFgIQgAAEIAABCEAAAhCAAAQgsJsEKMztJm3W6joCFOa6LmU4DAEIQAACEIAABCAAAQhAAAIQ6BoCFOa6JlU4uhcEKMztBXXWhAAEIAABCEAAAhCAAAQgAAEI9AcBCnP9kWei3CYBCnPbBMc0CEAAAhCAAAQgAAEIQAACEIAABDYlQGFuU0QM6GcCFOb6OfvEDgEIQAACEIAABCAAAQhAAAIQ2FkC3wNsLCQx0GZqYwAAAABJRU5ErkJggg==)"
      ]
    }
  ]
}